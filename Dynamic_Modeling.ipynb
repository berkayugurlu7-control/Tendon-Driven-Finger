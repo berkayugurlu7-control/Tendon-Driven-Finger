{
  "nbformat": 4,
  "nbformat_minor": 0,
  "metadata": {
    "colab": {
      "provenance": []
    },
    "kernelspec": {
      "name": "python3",
      "display_name": "Python 3"
    },
    "language_info": {
      "name": "python"
    }
  },
  "cells": [
    {
      "cell_type": "code",
      "execution_count": null,
      "metadata": {
        "id": "jksgpNY-PpRm"
      },
      "outputs": [],
      "source": [
        "import sympy as sym  # Imports the sympy library and assigns it the alias 'sym' for symbolic mathematics\n",
        "from sympy import *   # Imports all functions and classes from the sympy library directly into the namespace\n",
        "import numpy as np    # Imports the numpy library and assigns it the alias 'np' for numerical operations\n"
      ]
    },
    {
      "cell_type": "code",
      "source": [
        "# Lagrangian Method to Calculate Torque\n",
        "\n",
        "m = 0.002  # Mass in kg\n",
        "g = 9.81  # Gravitational acceleration in m/s^2\n",
        "\n",
        "# Lengths of the segments in meters\n",
        "l1 = 0.1  # Length of the first segment\n",
        "l2 = 0.09  # Length of the second segment\n",
        "l3 = 0.057  # Length of the third segment\n",
        "\n",
        "# Moment of inertia for each segment (assuming rod-like segments)\n",
        "I2 = (1/3) * 5 * m * (l1**2)  # Moment of inertia for segment 2\n",
        "I3 = (1/3) * 4 * m * (l2**2)  # Moment of inertia for segment 3\n",
        "I4 = (1/3) * 3 * m * (l3**2)  # Moment of inertia for segment 4\n",
        "\n",
        "# Define the time variable\n",
        "t = symbols('t')  # Time symbol used for differentiation\n",
        "\n",
        "# Define angular position functions as functions of time\n",
        "theta1 = Function('theta1')(t)  # Angular position of the first segment as a function of time\n",
        "theta2 = Function('theta2')(t)  # Angular position of the second segment as a function of time\n",
        "theta3 = Function('theta3')(t)  # Angular position of the third segment as a function of time\n",
        "\n",
        "# Take derivatives with respect to time to find angular velocities and accelerations\n",
        "D_THETA_1 = Derivative(theta1, t)  # d(theta1)/dt - angular velocity of the first segment\n",
        "D2_THETA_1 = Derivative(theta1, t, t)  # d^2(theta1)/dt^2 - angular acceleration of the first segment\n",
        "\n",
        "D_THETA_2 = Derivative(theta2, t)  # d(theta2)/dt - angular velocity of the second segment\n",
        "D2_THETA_2 = Derivative(theta2, t, t)  # d^2(theta2)/dt^2 - angular acceleration of the second segment\n",
        "\n",
        "D_THETA_3 = Derivative(theta3, t)  # d(theta3)/dt - angular velocity of the third segment\n",
        "D2_THETA_3 = Derivative(theta3, t, t)  # d^2(theta3)/dt^2 - angular acceleration of the third segment\n"
      ],
      "metadata": {
        "id": "2rsV8R2fP0tR"
      },
      "execution_count": null,
      "outputs": []
    },
    {
      "cell_type": "code",
      "source": [
        "# Trigonometric Function Simplifications\n",
        "\n",
        "# Cosine and sine for the first angular position (theta1)\n",
        "c1 = cos(theta1)  # Cosine of theta1\n",
        "s1 = sin(theta1)  # Sine of theta1\n",
        "\n",
        "# Cosine and sine for the second angular position (theta2)\n",
        "c2 = cos(theta2)  # Cosine of theta2\n",
        "s2 = sin(theta2)  # Sine of theta2\n",
        "\n",
        "# Cosine and sine for the sum of theta1 and theta2 (theta1 + theta2)\n",
        "c12 = cos(theta1 + theta2)  # Cosine of (theta1 + theta2)\n",
        "s12 = sin(theta1 + theta2)  # Sine of (theta1 + theta2)\n",
        "\n",
        "# Cosine and sine for the third angular position (theta3)\n",
        "c3 = cos(theta3)  # Cosine of theta3\n",
        "s3 = sin(theta3)  # Sine of theta3\n",
        "\n",
        "# Cosine and sine for the sum of theta2 and theta3 (theta2 + theta3)\n",
        "c23 = cos(theta2 + theta3)  # Cosine of (theta2 + theta3)\n",
        "s23 = sin(theta2 + theta3)  # Sine of (theta2 + theta3)\n",
        "\n",
        "# Cosine and sine for the sum of theta1, theta2, and theta3 (theta1 + theta2 + theta3)\n",
        "c123 = cos(theta1 + theta2 + theta3)  # Cosine of (theta1 + theta2 + theta3)\n",
        "s123 = sin(theta1 + theta2 + theta3)  # Sine of (theta1 + theta2 + theta3)\n"
      ],
      "metadata": {
        "id": "z0aoOzPUP4L3"
      },
      "execution_count": null,
      "outputs": []
    },
    {
      "cell_type": "code",
      "source": [
        "# Positions and Velocities\n",
        "\n",
        "print(\"---------------LINK 1-----------------------\")\n",
        "print(\"It is motionless.\")\n",
        "\n",
        "print(\"---------------LINK 2-----------------------\")\n",
        "# Position of link 2 (relative to the origin, in terms of x and y)\n",
        "pos_L2 = Matrix([[(l1/2)*c1],[(l1/2)*s1]])  # Position of the center of mass of the second link\n",
        "# Velocity is the time derivative of the position\n",
        "vel_L2 = Derivative(pos_L2, t)  # Derivative of position to find velocity\n",
        "\n",
        "# Simplifying the velocity expression and converting it back to a Matrix\n",
        "vel_L2 = list(simplify(vel_L2))  # Simplify the velocity expressions\n",
        "vel_L2 = Matrix(vel_L2)  # Convert the list back to a Matrix\n",
        "print(\"Velocity L2 : \", vel_L2)  # Print the velocity of link 2\n",
        "\n",
        "print(\"---------------LINK 3-----------------------\")\n",
        "# Position of link 3 (relative to the origin, considering the motion of both link 1 and link 2)\n",
        "pos_L3 = Matrix([[l1*c1 + (l2/2)*c12], [l1*s1 + (l2/2)*s12]])  # Position of the center of mass of the third link\n",
        "# Velocity is the time derivative of the position\n",
        "vel_L3 = Derivative(pos_L3, t)  # Derivative of position to find velocity\n",
        "\n",
        "# Simplifying the velocity expression and converting it back to a Matrix\n",
        "vel_L3 = list(simplify(vel_L3))  # Simplify the velocity expressions\n",
        "vel_L3 = Matrix(vel_L3)  # Convert the list back to a Matrix\n",
        "print(\"Velocity L3 : \", vel_L3)  # Print the velocity of link 3\n",
        "\n",
        "print(\"---------------LINK 4-----------------------\")\n",
        "# Position of link 4 (relative to the origin, considering the motion of all the previous links)\n",
        "pos_L4 = Matrix([[l1*c1 + l2*c12 + (l3/2)*c123], [l1*s1 + l2*s12 + (l3/2)*s123]])  # Position of the center of mass of the fourth link\n",
        "# Velocity is the time derivative of the position\n",
        "vel_L4 = Derivative(pos_L4, t)  # Derivative of position to find velocity\n",
        "\n",
        "# Simplifying the velocity expression and converting it back to a Matrix\n",
        "vel_L4 = list(simplify(vel_L4))  # Simplify the velocity expressions\n",
        "vel_L4 = Matrix(vel_L4)  # Convert the list back to a Matrix\n",
        "print(\"Velocity L4 : \", vel_L4)  # Print the velocity of link 4\n"
      ],
      "metadata": {
        "colab": {
          "base_uri": "https://localhost:8080/"
        },
        "id": "C5-ESsZQP5Of",
        "outputId": "3e2639eb-b668-4f64-d010-bfc38a6a2012"
      },
      "execution_count": null,
      "outputs": [
        {
          "output_type": "stream",
          "name": "stdout",
          "text": [
            "---------------LINK 1-----------------------\n",
            "It is motionless.\n",
            "---------------LINK 2-----------------------\n",
            "Velocity L2 :  Matrix([[-0.05*sin(theta1(t))*Derivative(theta1(t), t)], [0.05*cos(theta1(t))*Derivative(theta1(t), t)]])\n",
            "---------------LINK 3-----------------------\n",
            "Velocity L3 :  Matrix([[-0.045*(Derivative(theta1(t), t) + Derivative(theta2(t), t))*sin(theta1(t) + theta2(t)) - 0.1*sin(theta1(t))*Derivative(theta1(t), t)], [0.045*(Derivative(theta1(t), t) + Derivative(theta2(t), t))*cos(theta1(t) + theta2(t)) + 0.1*cos(theta1(t))*Derivative(theta1(t), t)]])\n",
            "---------------LINK 4-----------------------\n",
            "Velocity L4 :  Matrix([[-0.09*(Derivative(theta1(t), t) + Derivative(theta2(t), t))*sin(theta1(t) + theta2(t)) - 0.0285*(Derivative(theta1(t), t) + Derivative(theta2(t), t) + Derivative(theta3(t), t))*sin(theta1(t) + theta2(t) + theta3(t)) - 0.1*sin(theta1(t))*Derivative(theta1(t), t)], [0.09*(Derivative(theta1(t), t) + Derivative(theta2(t), t))*cos(theta1(t) + theta2(t)) + 0.0285*(Derivative(theta1(t), t) + Derivative(theta2(t), t) + Derivative(theta3(t), t))*cos(theta1(t) + theta2(t) + theta3(t)) + 0.1*cos(theta1(t))*Derivative(theta1(t), t)]])\n"
          ]
        }
      ]
    },
    {
      "cell_type": "code",
      "source": [
        "# Kinetic Energies\n",
        "\n",
        "# Kinetic energy for link 2\n",
        "vel_L2_sq = simplify(vel_L2.T.dot(vel_L2))  # Calculate the square of the velocity (v^2) for link 2\n",
        "KL2 = simplify(0.5 * (5 * m) * vel_L2_sq + 0.5 * I2 * (D_THETA_1**2))\n",
        "# Kinetic energy of link 2 (Translational + Rotational)\n",
        "# Translational part: (1/2) * mass * velocity^2\n",
        "# Rotational part: (1/2) * moment of inertia * angular velocity^2\n",
        "\n",
        "# Kinetic energy for link 3\n",
        "vel_L3_sq = simplify(vel_L3.T.dot(vel_L3))  # Calculate the square of the velocity (v^2) for link 3\n",
        "KL3 = simplify(0.5 * (4 * m) * vel_L3_sq + 0.5 * I3 * (D_THETA_1 + D_THETA_2)**2)\n",
        "# Kinetic energy of link 3 (Translational + Rotational)\n",
        "# Translational part: (1/2) * mass * velocity^2\n",
        "# Rotational part: (1/2) * moment of inertia * angular velocity^2\n",
        "\n",
        "# Kinetic energy for link 4\n",
        "vel_L4_sq = simplify(vel_L4.T.dot(vel_L4))  # Calculate the square of the velocity (v^2) for link 4\n",
        "KL4 = simplify(0.5 * (3 * m) * vel_L4_sq + 0.5 * I4 * (D_THETA_1 + D_THETA_2 + D_THETA_3)**2)\n",
        "# Kinetic energy of link 4 (Translational + Rotational)\n",
        "# Translational part: (1/2) * mass * velocity^2\n",
        "# Rotational part: (1/2) * moment of inertia * angular velocity^2\n",
        "\n",
        "# Total kinetic energy of the system\n",
        "K_Total = KL2 + KL3 + KL4  # Sum the kinetic energies of all links\n",
        "\n",
        "# Print the total kinetic energy (KL2 + KL3 + KL4)\n",
        "print(KL2 + KL3 + KL4)  # You can print K_Total here as well, since it's the same\n"
      ],
      "metadata": {
        "colab": {
          "base_uri": "https://localhost:8080/"
        },
        "id": "EJLBZm6FP7U3",
        "outputId": "d1ec3d2f-69e7-4bb1-b906-27a5a7dc633d"
      },
      "execution_count": null,
      "outputs": [
        {
          "output_type": "stream",
          "name": "stdout",
          "text": [
            "3.0e-5*(0.9*(Derivative(theta1(t), t) + Derivative(theta2(t), t))*sin(theta1(t) + theta2(t)) + 0.285*(Derivative(theta1(t), t) + Derivative(theta2(t), t) + Derivative(theta3(t), t))*sin(theta1(t) + theta2(t) + theta3(t)) + sin(theta1(t))*Derivative(theta1(t), t))**2 + 3.0e-5*(0.9*(Derivative(theta1(t), t) + Derivative(theta2(t), t))*cos(theta1(t) + theta2(t)) + 0.285*(Derivative(theta1(t), t) + Derivative(theta2(t), t) + Derivative(theta3(t), t))*cos(theta1(t) + theta2(t) + theta3(t)) + cos(theta1(t))*Derivative(theta1(t), t))**2 + 3.249e-6*(Derivative(theta1(t), t) + Derivative(theta2(t), t) + Derivative(theta3(t), t))**2 + 3.6e-5*cos(theta2(t))*Derivative(theta1(t), t)**2 + 3.6e-5*cos(theta2(t))*Derivative(theta1(t), t)*Derivative(theta2(t), t) + 8.80666666666667e-5*Derivative(theta1(t), t)**2 + 3.78e-5*Derivative(theta1(t), t)*Derivative(theta2(t), t) + 1.89e-5*Derivative(theta2(t), t)**2\n"
          ]
        }
      ]
    },
    {
      "cell_type": "code",
      "source": [
        "# Potential Energies\n",
        "\n",
        "# Potential energy for link 2 (taking into account the height of the center of mass of link 2)\n",
        "PL2 = (5) * m * g * ((l1 / 2) * s1)\n",
        "# Potential energy = m * g * h, where h is the vertical height (y-coordinate) of the center of mass.\n",
        "# For link 2, the height is calculated as (l1/2) * sin(theta1), which is the vertical displacement of the center of mass.\n",
        "\n",
        "# Potential energy for link 3 (taking into account the height of the center of mass of link 3)\n",
        "PL3 = (4) * m * g * ((l1 * s1 + (l2 / 2) * s12))\n",
        "# The vertical position for link 3 is the sum of the displacement of link 1 and half of the length of link 2.\n",
        "# This height is multiplied by sin(theta) to get the vertical component.\n",
        "\n",
        "# Potential energy for link 4 (taking into account the height of the center of mass of link 4)\n",
        "PL4 = (3) * m * g * ((l1 * s1 + l2 * s12 + (l3 / 2) * s123))\n",
        "# Similarly, the height for link 4 is the cumulative vertical displacement of link 1, link 2, and half of link 3.\n",
        "\n",
        "# Total potential energy of the system\n",
        "P_Total = simplify(PL2 + PL3 + PL4)  # Sum the potential energies of all links\n",
        "\n",
        "# Print the total potential energy\n",
        "print(P_Total)  # Output the total potential energy of the system\n"
      ],
      "metadata": {
        "colab": {
          "base_uri": "https://localhost:8080/"
        },
        "id": "7q7bayzOP-jw",
        "outputId": "2030a1f8-47e8-4789-88fd-f7a558e93b50"
      },
      "execution_count": null,
      "outputs": [
        {
          "output_type": "stream",
          "name": "stdout",
          "text": [
            "0.008829*sin(theta1(t) + theta2(t)) + 0.00167751*sin(theta1(t) + theta2(t) + theta3(t)) + 0.018639*sin(theta1(t))\n"
          ]
        }
      ]
    },
    {
      "cell_type": "code",
      "source": [
        "# Lagrangian Calculation\n",
        "\n",
        "# Lagrangian is the difference between the total kinetic energy (K_Total) and the total potential energy (P_Total)\n",
        "L = K_Total - P_Total  # L = K - P, where K is the total kinetic energy and P is the total potential energy\n",
        "\n",
        "# Print the Lagrangian\n",
        "print(\"L = \", L)  # Output the Lagrangian expression\n"
      ],
      "metadata": {
        "colab": {
          "base_uri": "https://localhost:8080/"
        },
        "id": "3qXATGEaP_F3",
        "outputId": "1579ed03-bb00-4821-cd49-ce314dd24bf3"
      },
      "execution_count": null,
      "outputs": [
        {
          "output_type": "stream",
          "name": "stdout",
          "text": [
            "L =  3.0e-5*(0.9*(Derivative(theta1(t), t) + Derivative(theta2(t), t))*sin(theta1(t) + theta2(t)) + 0.285*(Derivative(theta1(t), t) + Derivative(theta2(t), t) + Derivative(theta3(t), t))*sin(theta1(t) + theta2(t) + theta3(t)) + sin(theta1(t))*Derivative(theta1(t), t))**2 + 3.0e-5*(0.9*(Derivative(theta1(t), t) + Derivative(theta2(t), t))*cos(theta1(t) + theta2(t)) + 0.285*(Derivative(theta1(t), t) + Derivative(theta2(t), t) + Derivative(theta3(t), t))*cos(theta1(t) + theta2(t) + theta3(t)) + cos(theta1(t))*Derivative(theta1(t), t))**2 + 3.249e-6*(Derivative(theta1(t), t) + Derivative(theta2(t), t) + Derivative(theta3(t), t))**2 - 0.008829*sin(theta1(t) + theta2(t)) - 0.00167751*sin(theta1(t) + theta2(t) + theta3(t)) - 0.018639*sin(theta1(t)) + 3.6e-5*cos(theta2(t))*Derivative(theta1(t), t)**2 + 3.6e-5*cos(theta2(t))*Derivative(theta1(t), t)*Derivative(theta2(t), t) + 8.80666666666667e-5*Derivative(theta1(t), t)**2 + 3.78e-5*Derivative(theta1(t), t)*Derivative(theta2(t), t) + 1.89e-5*Derivative(theta2(t), t)**2\n"
          ]
        }
      ]
    },
    {
      "cell_type": "code",
      "source": [
        "# Torque 1 (For the first joint)\n",
        "\n",
        "# Compute the partial derivative of the Lagrangian with respect to the angular velocity (D_THETA_1)\n",
        "a1 = diff(L, D_THETA_1)\n",
        "# Compute the time derivative (d/dt) of the result to get the rate of change of the momentum\n",
        "a11 = Derivative(a1, t)\n",
        "# Compute the partial derivative of the Lagrangian with respect to the angular position (theta1)\n",
        "b1 = diff(L, theta1)\n",
        "# Calculate the torque for the first joint by subtracting b1 from a11 (Euler-Lagrange equation)\n",
        "TORK1 = simplify(a11 - b1)\n",
        "# Output the result for torque at joint 1\n",
        "print(\"TORK1 = \", TORK1)\n",
        "\n",
        "# Torque 2 (For the second joint)\n",
        "# Compute the partial derivative of the Lagrangian with respect to the angular velocity (D_THETA_2)\n",
        "a2 = diff(L, D_THETA_2)\n",
        "# Compute the time derivative (d/dt) of the result to get the rate of change of the momentum\n",
        "a22 = Derivative(a2, t)\n",
        "# Compute the partial derivative of the Lagrangian with respect to the angular position (theta2)\n",
        "b2 = diff(L, theta2)\n",
        "# Calculate the torque for the second joint by subtracting b2 from a22 (Euler-Lagrange equation)\n",
        "TORK2 = simplify(a22 - b2)\n",
        "# Output the result for torque at joint 2\n",
        "print(\"TORK2 = \", TORK2)\n",
        "\n",
        "# Torque 3 (For the third joint)\n",
        "# Compute the partial derivative of the Lagrangian with respect to the angular velocity (D_THETA_3)\n",
        "a3 = diff(L, D_THETA_3)\n",
        "# Compute the time derivative (d/dt) of the result to get the rate of change of the momentum\n",
        "a33 = Derivative(a3, t)\n",
        "# Compute the partial derivative of the Lagrangian with respect to the angular position (theta3)\n",
        "b3 = diff(L, theta3)\n",
        "# Calculate the torque for the third joint by subtracting b3 from a33 (Euler-Lagrange equation)\n",
        "TORK3 = simplify(a33 - b3)\n",
        "# Output the result for torque at joint 3\n",
        "print(\"TORK3 = \", TORK3)\n",
        "print(\"\")\n"
      ],
      "metadata": {
        "colab": {
          "base_uri": "https://localhost:8080/"
        },
        "id": "3XcRZUY5QAjJ",
        "outputId": "721e989f-8998-47ee-ddef-35b3d58c2829"
      },
      "execution_count": null,
      "outputs": [
        {
          "output_type": "stream",
          "name": "stdout",
          "text": [
            "TORK1 =  -3.42e-5*(Derivative(theta2(t), t) + Derivative(theta3(t), t))*sin(theta2(t) + theta3(t))*Derivative(theta1(t), t) - 1.71e-5*(Derivative(theta2(t), t) + Derivative(theta3(t), t))*sin(theta2(t) + theta3(t))*Derivative(theta2(t), t) - 1.71e-5*(Derivative(theta2(t), t) + Derivative(theta3(t), t))*sin(theta2(t) + theta3(t))*Derivative(theta3(t), t) - 0.00018*sin(theta2(t))*Derivative(theta1(t), t)*Derivative(theta2(t), t) - 9.0e-5*sin(theta2(t))*Derivative(theta2(t), t)**2 - 3.078e-5*sin(theta3(t))*Derivative(theta1(t), t)*Derivative(theta3(t), t) - 3.078e-5*sin(theta3(t))*Derivative(theta2(t), t)*Derivative(theta3(t), t) - 1.539e-5*sin(theta3(t))*Derivative(theta3(t), t)**2 + 0.008829*cos(theta1(t) + theta2(t)) + 3.42e-5*cos(theta2(t) + theta3(t))*Derivative(theta1(t), (t, 2)) + 1.71e-5*cos(theta2(t) + theta3(t))*Derivative(theta2(t), (t, 2)) + 1.71e-5*cos(theta2(t) + theta3(t))*Derivative(theta3(t), (t, 2)) + 0.00167751*cos(theta1(t) + theta2(t) + theta3(t)) + 0.018639*cos(theta1(t)) + 0.00018*cos(theta2(t))*Derivative(theta1(t), (t, 2)) + 9.0e-5*cos(theta2(t))*Derivative(theta2(t), (t, 2)) + 3.078e-5*cos(theta3(t))*Derivative(theta1(t), (t, 2)) + 3.078e-5*cos(theta3(t))*Derivative(theta2(t), (t, 2)) + 1.539e-5*cos(theta3(t))*Derivative(theta3(t), (t, 2)) + 0.000296104833333333*Derivative(theta1(t), (t, 2)) + 9.77715e-5*Derivative(theta2(t), (t, 2)) + 1.13715e-5*Derivative(theta3(t), (t, 2))\n",
            "TORK2 =  -1.71e-5*(Derivative(theta2(t), t) + Derivative(theta3(t), t))*sin(theta2(t) + theta3(t))*Derivative(theta1(t), t) + 1.71e-5*sin(theta2(t) + theta3(t))*Derivative(theta1(t), t)**2 + 1.71e-5*sin(theta2(t) + theta3(t))*Derivative(theta1(t), t)*Derivative(theta2(t), t) + 1.71e-5*sin(theta2(t) + theta3(t))*Derivative(theta1(t), t)*Derivative(theta3(t), t) + 9.0e-5*sin(theta2(t))*Derivative(theta1(t), t)**2 - 3.078e-5*sin(theta3(t))*Derivative(theta1(t), t)*Derivative(theta3(t), t) - 3.078e-5*sin(theta3(t))*Derivative(theta2(t), t)*Derivative(theta3(t), t) - 1.539e-5*sin(theta3(t))*Derivative(theta3(t), t)**2 + 0.008829*cos(theta1(t) + theta2(t)) + 1.71e-5*cos(theta2(t) + theta3(t))*Derivative(theta1(t), (t, 2)) + 0.00167751*cos(theta1(t) + theta2(t) + theta3(t)) + 9.0e-5*cos(theta2(t))*Derivative(theta1(t), (t, 2)) + 3.078e-5*cos(theta3(t))*Derivative(theta1(t), (t, 2)) + 3.078e-5*cos(theta3(t))*Derivative(theta2(t), (t, 2)) + 1.539e-5*cos(theta3(t))*Derivative(theta3(t), (t, 2)) + 9.77715e-5*Derivative(theta1(t), (t, 2)) + 9.77715e-5*Derivative(theta2(t), (t, 2)) + 1.13715e-5*Derivative(theta3(t), (t, 2))\n",
            "TORK3 =  -1.71e-5*(Derivative(theta2(t), t) + Derivative(theta3(t), t))*sin(theta2(t) + theta3(t))*Derivative(theta1(t), t) + 1.71e-5*sin(theta2(t) + theta3(t))*Derivative(theta1(t), t)**2 + 1.71e-5*sin(theta2(t) + theta3(t))*Derivative(theta1(t), t)*Derivative(theta2(t), t) + 1.71e-5*sin(theta2(t) + theta3(t))*Derivative(theta1(t), t)*Derivative(theta3(t), t) + 1.539e-5*sin(theta3(t))*Derivative(theta1(t), t)**2 + 3.078e-5*sin(theta3(t))*Derivative(theta1(t), t)*Derivative(theta2(t), t) + 1.539e-5*sin(theta3(t))*Derivative(theta2(t), t)**2 + 1.71e-5*cos(theta2(t) + theta3(t))*Derivative(theta1(t), (t, 2)) + 0.00167751*cos(theta1(t) + theta2(t) + theta3(t)) + 1.539e-5*cos(theta3(t))*Derivative(theta1(t), (t, 2)) + 1.539e-5*cos(theta3(t))*Derivative(theta2(t), (t, 2)) + 1.13715e-5*Derivative(theta1(t), (t, 2)) + 1.13715e-5*Derivative(theta2(t), (t, 2)) + 1.13715e-5*Derivative(theta3(t), (t, 2))\n",
            "\n"
          ]
        }
      ]
    },
    {
      "cell_type": "code",
      "source": [
        "# TEZ İÇİN BASİTLEŞTİRME\n",
        "\n",
        "expr1 = expand(TORK1)\n",
        "expr2 = expand(TORK2)\n",
        "expr3 = expand(TORK3)\n",
        "\n",
        "expr1 = collect(expr1, [D_THETA_1, D_THETA_2, D_THETA_3, D2_THETA_1, D2_THETA_2, D2_THETA_3])\n",
        "expr2 = collect(expr2, [D_THETA_1, D_THETA_2, D_THETA_3, D2_THETA_1, D2_THETA_2, D2_THETA_3])\n",
        "expr3 = collect(expr3, [D_THETA_1, D_THETA_2, D_THETA_3, D2_THETA_1, D2_THETA_2, D2_THETA_3])\n",
        "\n",
        "\n",
        "subs_for = {sin(theta1): \"s1\",\n",
        "                   cos(theta1): \"c1\",\n",
        "                   sin(theta2): \"s2\",\n",
        "                   cos(theta2): \"c2\",\n",
        "                   sin(theta3): \"s3\",\n",
        "                   cos(theta3): \"c3\",\n",
        "                   sin(theta1 + theta2): \"s12\",\n",
        "                   cos(theta1 + theta2): \"c12\",\n",
        "                   sin(theta1 + theta2 + theta3): \"s123\",\n",
        "                   cos(theta1 + theta2 + theta3): \"c123\",\n",
        "                   sin(theta2 + theta3): \"s23\",\n",
        "                   cos(theta2 + theta3): \"c23\",\n",
        "                   Derivative(theta1, t): \"D_THETA_1\",  # Replace derivatives with simplified symbols\n",
        "                   Derivative(theta1, t, t): \"D2_THETA_1\",\n",
        "                   Derivative(theta2, t): \"D_THETA_2\",\n",
        "                   Derivative(theta2, t, t): \"D2_THETA_2\",\n",
        "                   Derivative(theta3, t): \"D_THETA_3\",\n",
        "                   Derivative(theta3, t, t): \"D2_THETA_3\",\n",
        "                   theta1: \"theta1\",  # Replace theta values with simplified symbols for MATLAB\n",
        "                   theta2: \"theta2\",\n",
        "                   theta3: \"theta3\",\n",
        "                   }\n",
        "\n",
        "\n",
        "\n",
        "expr1 = expr1.subs(subs_for)\n",
        "expr2 = expr2.subs(subs_for)\n",
        "expr3 = expr3.subs(subs_for)\n",
        "\n",
        "# 4) Sonucu yazdır\n",
        "print(\"TORK1 = \", expr1)\n",
        "print(\"TORK2 = \", expr2)\n",
        "print(\"TORK3 = \", expr3)\n",
        "print(\"\")\n"
      ],
      "metadata": {
        "colab": {
          "base_uri": "https://localhost:8080/"
        },
        "id": "Sj3bVKWzzO7r",
        "outputId": "e635247c-9dca-4ff5-e8d6-6f0269a06cf8"
      },
      "execution_count": null,
      "outputs": [
        {
          "output_type": "stream",
          "name": "stdout",
          "text": [
            "TORK1 =  D2_THETA_1*(0.00018*c2 + 3.42e-5*c23 + 3.078e-5*c3 + 0.000296104833333333) + D2_THETA_2*(9.0e-5*c2 + 1.71e-5*c23 + 3.078e-5*c3 + 9.77715e-5) + D2_THETA_3*(1.71e-5*c23 + 1.539e-5*c3 + 1.13715e-5) + D_THETA_1*(-0.00018*D_THETA_2*s2 - 3.42e-5*D_THETA_2*s23 - 3.42e-5*D_THETA_3*s23 - 3.078e-5*D_THETA_3*s3) + D_THETA_2**2*(-9.0e-5*s2 - 1.71e-5*s23) + D_THETA_2*(-3.42e-5*D_THETA_3*s23 - 3.078e-5*D_THETA_3*s3) + D_THETA_3**2*(-1.71e-5*s23 - 1.539e-5*s3) + 0.018639*c1 + 0.008829*c12 + 0.00167751*c123\n",
            "TORK2 =  D2_THETA_1*(9.0e-5*c2 + 1.71e-5*c23 + 3.078e-5*c3 + 9.77715e-5) + D2_THETA_2*(3.078e-5*c3 + 9.77715e-5) + D2_THETA_3*(1.539e-5*c3 + 1.13715e-5) + D_THETA_1**2*(9.0e-5*s2 + 1.71e-5*s23) - 3.078e-5*D_THETA_1*D_THETA_3*s3 - 3.078e-5*D_THETA_2*D_THETA_3*s3 - 1.539e-5*D_THETA_3**2*s3 + 0.008829*c12 + 0.00167751*c123\n",
            "TORK3 =  D2_THETA_1*(1.71e-5*c23 + 1.539e-5*c3 + 1.13715e-5) + D2_THETA_2*(1.539e-5*c3 + 1.13715e-5) + 1.13715e-5*D2_THETA_3 + D_THETA_1**2*(1.71e-5*s23 + 1.539e-5*s3) + 3.078e-5*D_THETA_1*D_THETA_2*s3 + 1.539e-5*D_THETA_2**2*s3 + 0.00167751*c123\n",
            "\n"
          ]
        }
      ]
    },
    {
      "cell_type": "code",
      "source": [
        "# g1: Gravitational force at joint 1\n",
        "\n",
        "# Expand TORK1 to obtain the full expression\n",
        "g1 = expand(TORK1)\n",
        "\n",
        "# Extract the coefficients of different terms, setting terms with specific derivatives to 0\n",
        "g1 = g1.coeff(D2_THETA_1, 0)  # Coefficient of second derivative of theta1 (acceleration)\n",
        "g1 = g1.coeff(D2_THETA_2, 0)  # Coefficient of second derivative of theta2 (acceleration)\n",
        "g1 = g1.coeff(D2_THETA_3, 0)  # Coefficient of second derivative of theta3 (acceleration)\n",
        "g1 = g1.coeff(D_THETA_1, 0)   # Coefficient of first derivative of theta1 (velocity)\n",
        "g1 = g1.coeff(D_THETA_2, 0)   # Coefficient of first derivative of theta2 (velocity)\n",
        "g1 = g1.coeff(D_THETA_3, 0)   # Coefficient of first derivative of theta3 (velocity)\n",
        "\n",
        "# Output the result for g1\n",
        "print(\"g1 =\", g1)\n",
        "\n",
        "# g2: Gravitational force at joint 2\n",
        "\n",
        "# Similarly for TORK2, follow the same procedure\n",
        "g2 = expand(TORK2)\n",
        "g2 = g2.coeff(D2_THETA_1, 0)\n",
        "g2 = g2.coeff(D2_THETA_2, 0)\n",
        "g2 = g2.coeff(D2_THETA_3, 0)\n",
        "g2 = g2.coeff(D_THETA_1, 0)\n",
        "g2 = g2.coeff(D_THETA_2, 0)\n",
        "g2 = g2.coeff(D_THETA_3, 0)\n",
        "\n",
        "# Output the result for g2\n",
        "print(\"g2 =\", g2)\n",
        "\n",
        "# g3: Gravitational force at joint 3\n",
        "\n",
        "# Similarly for TORK3, follow the same procedure\n",
        "g3 = expand(TORK3)\n",
        "g3 = g3.coeff(D2_THETA_1, 0)\n",
        "g3 = g3.coeff(D2_THETA_2, 0)\n",
        "g3 = g3.coeff(D2_THETA_3, 0)\n",
        "g3 = g3.coeff(D_THETA_1, 0)\n",
        "g3 = g3.coeff(D_THETA_2, 0)\n",
        "g3 = g3.coeff(D_THETA_3, 0)\n",
        "\n",
        "# Output the result for g3\n",
        "print(\"g3 =\", g3)\n",
        "\n",
        "# Combine the gravitational forces into a matrix\n",
        "G = Matrix([[g1], [g2], [g3]])\n"
      ],
      "metadata": {
        "colab": {
          "base_uri": "https://localhost:8080/"
        },
        "id": "Pj2Er4EOQCrY",
        "outputId": "1bd478b5-d890-4650-c040-5c85e1afb8c0"
      },
      "execution_count": null,
      "outputs": [
        {
          "output_type": "stream",
          "name": "stdout",
          "text": [
            "g1 = 0.008829*cos(theta1(t) + theta2(t)) + 0.00167751*cos(theta1(t) + theta2(t) + theta3(t)) + 0.018639*cos(theta1(t))\n",
            "g2 = 0.008829*cos(theta1(t) + theta2(t)) + 0.00167751*cos(theta1(t) + theta2(t) + theta3(t))\n",
            "g3 = 0.00167751*cos(theta1(t) + theta2(t) + theta3(t))\n"
          ]
        }
      ]
    },
    {
      "cell_type": "code",
      "source": [
        "# v1: Generalized force at joint 1\n",
        "\n",
        "# Expand TORK1 to obtain the full expression\n",
        "v1 = expand(TORK1)\n",
        "\n",
        "# Extract the coefficients of specific terms (like accelerations) and subtract the gravitational force (g1)\n",
        "v1 = v1.coeff(D2_THETA_1, 0)  # Coefficient of second derivative of theta1 (angular acceleration)\n",
        "v1 = v1.coeff(D2_THETA_2, 0)  # Coefficient of second derivative of theta2 (angular acceleration)\n",
        "v1 = v1.coeff(D2_THETA_3, 0)  # Coefficient of second derivative of theta3 (angular acceleration)\n",
        "\n",
        "# Subtract the gravitational force (g1) from the torque to get the generalized force\n",
        "v1 = v1 - g1\n",
        "\n",
        "# Output the result for v1 (generalized force at joint 1)\n",
        "print(\"v1 =\", v1)\n",
        "\n",
        "# v2: Generalized force at joint 2\n",
        "\n",
        "# Similarly for TORK2, follow the same procedure\n",
        "v2 = expand(TORK2)\n",
        "v2 = v2.coeff(D2_THETA_1, 0)\n",
        "v2 = v2.coeff(D2_THETA_2, 0)\n",
        "v2 = v2.coeff(D2_THETA_3, 0)\n",
        "\n",
        "# Subtract the gravitational force (g2) from the torque to get the generalized force\n",
        "v2 = v2 - g2\n",
        "\n",
        "# Output the result for v2 (generalized force at joint 2)\n",
        "print(\"v2 =\", v2)\n",
        "\n",
        "# v3: Generalized force at joint 3\n",
        "\n",
        "# Similarly for TORK3, follow the same procedure\n",
        "v3 = expand(TORK3)\n",
        "v3 = v3.coeff(D2_THETA_1, 0)\n",
        "v3 = v3.coeff(D2_THETA_2, 0)\n",
        "v3 = v3.coeff(D2_THETA_3, 0)\n",
        "\n",
        "# Subtract the gravitational force (g3) from the torque to get the generalized force\n",
        "v3 = v3 - g3\n",
        "\n",
        "# Output the result for v3 (generalized force at joint 3)\n",
        "print(\"v3 =\", v3)\n",
        "\n",
        "# Combine the generalized forces into a matrix\n",
        "V = Matrix([[v1], [v2], [v3]])\n"
      ],
      "metadata": {
        "colab": {
          "base_uri": "https://localhost:8080/"
        },
        "id": "KUQ1gNPMQEcL",
        "outputId": "53f55a7d-2e41-4173-8dd8-523621f34d59"
      },
      "execution_count": null,
      "outputs": [
        {
          "output_type": "stream",
          "name": "stdout",
          "text": [
            "v1 = -3.42e-5*sin(theta2(t) + theta3(t))*Derivative(theta1(t), t)*Derivative(theta2(t), t) - 3.42e-5*sin(theta2(t) + theta3(t))*Derivative(theta1(t), t)*Derivative(theta3(t), t) - 1.71e-5*sin(theta2(t) + theta3(t))*Derivative(theta2(t), t)**2 - 3.42e-5*sin(theta2(t) + theta3(t))*Derivative(theta2(t), t)*Derivative(theta3(t), t) - 1.71e-5*sin(theta2(t) + theta3(t))*Derivative(theta3(t), t)**2 - 0.00018*sin(theta2(t))*Derivative(theta1(t), t)*Derivative(theta2(t), t) - 9.0e-5*sin(theta2(t))*Derivative(theta2(t), t)**2 - 3.078e-5*sin(theta3(t))*Derivative(theta1(t), t)*Derivative(theta3(t), t) - 3.078e-5*sin(theta3(t))*Derivative(theta2(t), t)*Derivative(theta3(t), t) - 1.539e-5*sin(theta3(t))*Derivative(theta3(t), t)**2\n",
            "v2 = 1.71e-5*sin(theta2(t) + theta3(t))*Derivative(theta1(t), t)**2 + 9.0e-5*sin(theta2(t))*Derivative(theta1(t), t)**2 - 3.078e-5*sin(theta3(t))*Derivative(theta1(t), t)*Derivative(theta3(t), t) - 3.078e-5*sin(theta3(t))*Derivative(theta2(t), t)*Derivative(theta3(t), t) - 1.539e-5*sin(theta3(t))*Derivative(theta3(t), t)**2\n",
            "v3 = 1.71e-5*sin(theta2(t) + theta3(t))*Derivative(theta1(t), t)**2 + 1.539e-5*sin(theta3(t))*Derivative(theta1(t), t)**2 + 3.078e-5*sin(theta3(t))*Derivative(theta1(t), t)*Derivative(theta2(t), t) + 1.539e-5*sin(theta3(t))*Derivative(theta2(t), t)**2\n"
          ]
        }
      ]
    },
    {
      "cell_type": "code",
      "source": [
        "# m1, m2, m3 represent the torques after subtracting generalized forces and gravitational forces.\n",
        "m1 = simplify(TORK1 - v1 - g1)\n",
        "m2 = simplify(TORK2 - v2 - g2)\n",
        "m3 = simplify(TORK3 - v3 - g3)\n",
        "\n",
        "# Output the results for m1, m2, and m3\n",
        "print(\"m1 =\", m1)\n",
        "print(\"m2 =\", m2)\n",
        "print(\"m3 =\", m3)\n",
        "\n",
        "# Extract the coefficients for the terms involving the second derivatives (angular accelerations).\n",
        "# These coefficients represent the elements of the mass/inertia matrix.\n",
        "\n",
        "# For m1, extract coefficients for the second derivatives of theta1, theta2, and theta3.\n",
        "m11 = m1.coeff(D2_THETA_1, 1)\n",
        "m12 = m1.coeff(D2_THETA_2, 1)\n",
        "m13 = m1.coeff(D2_THETA_3, 1)\n",
        "\n",
        "# For m2, extract coefficients for the second derivatives of theta1, theta2, and theta3.\n",
        "m21 = m2.coeff(D2_THETA_1, 1)\n",
        "m22 = m2.coeff(D2_THETA_2, 1)\n",
        "m23 = m2.coeff(D2_THETA_3, 1)\n",
        "\n",
        "# For m3, extract coefficients for the second derivatives of theta1, theta2, and theta3.\n",
        "m31 = m3.coeff(D2_THETA_1, 1)\n",
        "m32 = m3.coeff(D2_THETA_2, 1)\n",
        "m33 = m3.coeff(D2_THETA_3, 1)\n",
        "\n",
        "# Construct the mass/inertia matrix M from the extracted coefficients\n",
        "M = Matrix([[m11, m12, m13], [m21, m22, m23], [m31, m32, m33]])\n"
      ],
      "metadata": {
        "colab": {
          "base_uri": "https://localhost:8080/"
        },
        "id": "rWijpr-oQGTb",
        "outputId": "66380e54-7c19-4f77-d5d6-80ddd8b4ee71"
      },
      "execution_count": null,
      "outputs": [
        {
          "output_type": "stream",
          "name": "stdout",
          "text": [
            "m1 = 3.42e-5*cos(theta2(t) + theta3(t))*Derivative(theta1(t), (t, 2)) + 1.71e-5*cos(theta2(t) + theta3(t))*Derivative(theta2(t), (t, 2)) + 1.71e-5*cos(theta2(t) + theta3(t))*Derivative(theta3(t), (t, 2)) + 0.00018*cos(theta2(t))*Derivative(theta1(t), (t, 2)) + 9.0e-5*cos(theta2(t))*Derivative(theta2(t), (t, 2)) + 3.078e-5*cos(theta3(t))*Derivative(theta1(t), (t, 2)) + 3.078e-5*cos(theta3(t))*Derivative(theta2(t), (t, 2)) + 1.539e-5*cos(theta3(t))*Derivative(theta3(t), (t, 2)) + 0.000296104833333333*Derivative(theta1(t), (t, 2)) + 9.77715e-5*Derivative(theta2(t), (t, 2)) + 1.13715e-5*Derivative(theta3(t), (t, 2))\n",
            "m2 = 1.71e-5*cos(theta2(t) + theta3(t))*Derivative(theta1(t), (t, 2)) + 9.0e-5*cos(theta2(t))*Derivative(theta1(t), (t, 2)) + 3.078e-5*cos(theta3(t))*Derivative(theta1(t), (t, 2)) + 3.078e-5*cos(theta3(t))*Derivative(theta2(t), (t, 2)) + 1.539e-5*cos(theta3(t))*Derivative(theta3(t), (t, 2)) + 9.77715e-5*Derivative(theta1(t), (t, 2)) + 9.77715e-5*Derivative(theta2(t), (t, 2)) + 1.13715e-5*Derivative(theta3(t), (t, 2))\n",
            "m3 = 1.71e-5*cos(theta2(t) + theta3(t))*Derivative(theta1(t), (t, 2)) + 1.539e-5*cos(theta3(t))*Derivative(theta1(t), (t, 2)) + 1.539e-5*cos(theta3(t))*Derivative(theta2(t), (t, 2)) + 1.13715e-5*Derivative(theta1(t), (t, 2)) + 1.13715e-5*Derivative(theta2(t), (t, 2)) + 1.13715e-5*Derivative(theta3(t), (t, 2))\n"
          ]
        }
      ]
    },
    {
      "cell_type": "code",
      "source": [
        "# Symbolically define the forces applied by tendons F1, F2, F3, F4, F5, and F6\n",
        "F1 = symbols('F1')  # Tendon 1 force\n",
        "F2 = symbols('F2')  # Tendon 2 force\n",
        "F3 = symbols('F3')  # Tendon 3 force\n",
        "F4 = symbols('F4')  # Tendon 4 force\n",
        "F5 = symbols('F5')  # Tendon 5 force\n",
        "F6 = symbols('F6')  # Tendon 6 force\n",
        "\n",
        "# Define pi (π) and the fixed angles for the tendons' application directions\n",
        "pi = 3.14159265359  # Pi constant\n"
      ],
      "metadata": {
        "id": "dAtnn7P1QIDo"
      },
      "execution_count": null,
      "outputs": []
    },
    {
      "cell_type": "code",
      "source": [
        "# EFFECT OF TENDONS ON TORQUES\n",
        "\n",
        "r = 0.005  # Radius: 0.005 m (0.5 cm), used in calculations to determine the torque from tendon forces.\n",
        "\n",
        "# Torque calculations:\n",
        "# T1, T2, T3 represent the torques generated by each tendon.\n",
        "# The torque is calculated by taking the difference in forces between tendon pairs and multiplying by the radius.\n",
        "\n",
        "T1 = r * (F2 - F1)  # Torque 1: The difference between forces F2 and F1, multiplied by the radius.\n",
        "T2 = r * (F4 - F3)  # Torque 2: The difference between forces F4 and F3, multiplied by the radius.\n",
        "T3 = r * (F6 - F5)  # Torque 3: The difference between forces F6 and F5, multiplied by the radius.\n"
      ],
      "metadata": {
        "id": "J3llwx_9QhoJ"
      },
      "execution_count": null,
      "outputs": []
    },
    {
      "cell_type": "code",
      "source": [
        "# CALCULATION OF ANGULAR ACCELERATIONS\n",
        "\n",
        "# Inverse of the mass-inertia matrix (M)\n",
        "inv_M = M.inv()                   # We compute the inverse of the M matrix\n",
        "\n",
        "# Create a matrix of the torques (T1, T2, T3) generated by the tendons\n",
        "torques = Matrix([[T1], [T2], [T3]])  # Collect the torques into a matrix\n",
        "\n",
        "# Calculate angular accelerations by multiplying the inverse of M with (torques - G - V)\n",
        "# G is the gravitational vector and V is the velocity-related terms\n",
        "functions = inv_M * (torques - G - V)     # Assign the angular accelerations to the \"functions\" matrix\n",
        "\n",
        "# Extract individual angular accelerations from the resulting matrix\n",
        "f1 = functions[0]                   # Angular acceleration for joint 1\n",
        "f2 = functions[1]                   # Angular acceleration for joint 2\n",
        "f3 = functions[2]                   # Angular acceleration for joint 3\n"
      ],
      "metadata": {
        "id": "puMzmhIMQOAv"
      },
      "execution_count": null,
      "outputs": []
    },
    {
      "cell_type": "code",
      "source": [
        "# MATLAB CODE GENERATION\n",
        "\n",
        "# Define substitutions for trigonometric and derivative terms to prepare for MATLAB formatting\n",
        "yerine_koymalar = {sin(theta1): \"sin(theta1)\",\n",
        "                   cos(theta1): \"cos(theta1)\",\n",
        "                   sin(theta2): \"sin(theta2)\",\n",
        "                   cos(theta2): \"cos(theta2)\",\n",
        "                   sin(theta3): \"sin(theta3)\",\n",
        "                   cos(theta3): \"cos(theta3)\",\n",
        "                   sin(theta1 + theta2): \"sin(theta1+theta2)\",\n",
        "                   cos(theta1 + theta2): \"cos(theta1+theta2)\",\n",
        "                   sin(theta1 + theta2 + theta3): \"sin(theta1+theta2+theta3)\",\n",
        "                   cos(theta1 + theta2 + theta3): \"cos(theta1+theta2+theta3)\",\n",
        "                   sin(theta2 + theta3): \"sin(theta2+theta3)\",\n",
        "                   cos(theta2 + theta3): \"cos(theta2+theta3)\",\n",
        "                   Derivative(theta1, t): \"D_THETA_1\",  # Replace derivatives with simplified symbols\n",
        "                   Derivative(theta1, t, t): \"D2_THETA_1\",\n",
        "                   Derivative(theta2, t): \"D_THETA_2\",\n",
        "                   Derivative(theta2, t, t): \"D2_THETA_2\",\n",
        "                   Derivative(theta3, t): \"D_THETA_3\",\n",
        "                   Derivative(theta3, t, t): \"D2_THETA_3\",\n",
        "                   theta1: \"theta1\",  # Replace theta values with simplified symbols for MATLAB\n",
        "                   theta2: \"theta2\",\n",
        "                   theta3: \"theta3\",\n",
        "                   }\n",
        "\n",
        "# Substitute trigonometric and derivative terms for MATLAB in f1, f2, and f3 equations\n",
        "f1_s = f1.subs(yerine_koymalar)\n",
        "f2_s = f2.subs(yerine_koymalar)\n",
        "f3_s = f3.subs(yerine_koymalar)\n",
        "\n",
        "# Convert equations to strings and replace Python-style exponentiation with MATLAB-style\n",
        "f1_s = str(f1_s).replace(\"**\", \"^\")  # Replace Python exponentiation with MATLAB exponentiation (^)\n",
        "f1_s = f1_s.replace(\"D_THETA_1^2\", \"(D_THETA_1^2)\")  # Ensure proper formatting of derivatives\n",
        "f1_s = f1_s.replace(\"D_THETA_2^2\", \"(D_THETA_2^2)\")\n",
        "f1_s = f1_s.replace(\"D_THETA_3^2\", \"(D_THETA_3^2)\")\n",
        "\n",
        "f2_s = str(f2_s).replace(\"**\", \"^\")\n",
        "f2_s = f2_s.replace(\"D_THETA_1^2\", \"(D_THETA_1^2)\")\n",
        "f2_s = f2_s.replace(\"D_THETA_2^2\", \"(D_THETA_2^2)\")\n",
        "f2_s = f2_s.replace(\"D_THETA_3^2\", \"(D_THETA_3^2)\")\n",
        "\n",
        "f3_s = str(f3_s).replace(\"**\", \"^\")\n",
        "f3_s = f3_s.replace(\"D_THETA_1^2\", \"(D_THETA_1^2)\")\n",
        "f3_s = f3_s.replace(\"D_THETA_2^2\", \"(D_THETA_2^2)\")\n",
        "f3_s = f3_s.replace(\"D_THETA_3^2\", \"(D_THETA_3^2)\")\n",
        "\n",
        "# Print the formatted angular acceleration equations for MATLAB code\n",
        "print(\"D2_THETA_1 = \", f1_s, \";\")  # Output the MATLAB-style formatted equation for the first joint\n",
        "print(\"D2_THETA_2 = \", f2_s, \";\")  # Output the MATLAB-style formatted equation for the second joint\n",
        "print(\"D2_THETA_3 = \", f3_s, \";\")  # Output the MATLAB-style formatted equation for the third joint\n",
        "\n",
        "print(\"\")  # Print a blank line for clarity\n"
      ],
      "metadata": {
        "colab": {
          "base_uri": "https://localhost:8080/"
        },
        "id": "Mf-S2S9kRbyR",
        "outputId": "06c24116-68b3-49e2-b2c5-9a220292978e"
      },
      "execution_count": null,
      "outputs": [
        {
          "output_type": "stream",
          "name": "stdout",
          "text": [
            "D2_THETA_1 =  (-1.539e-5*(D_THETA_1^2)*sin(theta3) - 1.71e-5*(D_THETA_1^2)*sin(theta2 + theta3) - 3.078e-5*D_THETA_1*D_THETA_2*sin(theta3) - 1.539e-5*(D_THETA_2^2)*sin(theta3) - 0.005*F5 + 0.005*F6 - 0.00167751*cos(theta1 + theta2 + theta3))*(3.63505644e-25*cos(theta2)^5*cos(theta3) - 3.68050943939915e-41*cos(theta2)^5*cos(theta2 + theta3) + 2.685902814e-25*cos(theta2)^5 + 1.24318930248e-25*cos(theta2)^4*cos(theta3)^2 + 2.0719821708e-25*cos(theta2)^4*cos(theta3)*cos(theta2 + theta3) + 1.2878109665982e-24*cos(theta2)^4*cos(theta3) - 2.09789038045752e-41*cos(theta2)^4*cos(theta2 + theta3)^2 - 1.83610739736e-25*cos(theta2)^4*cos(theta2 + theta3) + 8.8367645009889e-25*cos(theta2)^4 + 1.0629268536204e-26*cos(theta2)^3*cos(theta3)^3 + 4.724119349424e-26*cos(theta2)^3*cos(theta3)^2*cos(theta2 + theta3) - 6.16002601581253e-26*cos(theta2)^3*cos(theta3)^2 + 2.62451074968e-26*cos(theta2)^3*cos(theta3)*cos(theta2 + theta3)^2 + 3.74214304861488e-25*cos(theta2)^3*cos(theta3)*cos(theta2 + theta3) + 6.21384488024183e-26*cos(theta2)^3*cos(theta3) - 3.98599172286928e-42*cos(theta2)^3*cos(theta2 + theta3)^3 - 2.3650525378476e-25*cos(theta2)^3*cos(theta2 + theta3)^2 - 7.71987719826993e-25*cos(theta2)^3*cos(theta2 + theta3) + 8.38323515722335e-26*cos(theta2)^3 - 7.93473833908007e-43*cos(theta2)^2*cos(theta3)^4 + 2.01956102187876e-27*cos(theta2)^2*cos(theta3)^3*cos(theta2 + theta3) - 9.3695033763576e-26*cos(theta2)^2*cos(theta3)^3 - 2.86985925493723e-42*cos(theta2)^2*cos(theta3)^2*cos(theta2 + theta3)^2 - 2.15497046691621e-26*cos(theta2)^2*cos(theta3)^2*cos(theta2 + theta3) - 1.26819891173571e-24*cos(theta2)^2*cos(theta3)^2 - 4.986570424392e-27*cos(theta2)^2*cos(theta3)*cos(theta2 + theta3)^3 - 6.5637701594122e-26*cos(theta2)^2*cos(theta3)*cos(theta2 + theta3)^2 + 7.61401026222758e-26*cos(theta2)^2*cos(theta3)*cos(theta2 + theta3) - 3.74900859167102e-24*cos(theta2)^2*cos(theta3) - 2.52446142448388e-43*cos(theta2)^2*cos(theta2 + theta3)^4 - 7.66153010292696e-26*cos(theta2)^2*cos(theta2 + theta3)^3 - 6.31437319392806e-25*cos(theta2)^2*cos(theta2 + theta3)^2 - 8.91648455143469e-26*cos(theta2)^2*cos(theta2 + theta3) - 2.1155156940042e-24*cos(theta2)^2 - 3.01520056885046e-44*cos(theta2)*cos(theta3)^4*cos(theta2 + theta3) - 8.01092538678574e-27*cos(theta2)*cos(theta3)^4 - 3.83716594156965e-28*cos(theta2)*cos(theta3)^3*cos(theta2 + theta3)^2 + 1.37615273640096e-42*cos(theta2)*cos(theta3)^3*cos(theta2 + theta3) - 1.85496430166527e-25*cos(theta2)*cos(theta3)^3 - 1.70540708514206e-27*cos(theta2)*cos(theta3)^2*cos(theta2 + theta3)^3 - 1.51757959915666e-27*cos(theta2)*cos(theta3)^2*cos(theta2 + theta3)^2 + 8.67876276633391e-26*cos(theta2)*cos(theta3)^2*cos(theta2 + theta3) - 1.36365086623514e-24*cos(theta2)*cos(theta3)^2 - 1.42117257095172e-27*cos(theta2)*cos(theta3)*cos(theta2 + theta3)^4 - 3.01373541426773e-26*cos(theta2)*cos(theta3)*cos(theta2 + theta3)^3 + 2.22036449911628e-26*cos(theta2)*cos(theta3)*cos(theta2 + theta3)^2 + 1.11057805596928e-24*cos(theta2)*cos(theta3)*cos(theta2 + theta3) - 3.26448649239842e-24*cos(theta2)*cos(theta3) - 1.02879873647463e-26*cos(theta2)*cos(theta2 + theta3)^4 - 1.3209536422709e-25*cos(theta2)*cos(theta2 + theta3)^3 - 4.29616849707247e-26*cos(theta2)*cos(theta2 + theta3)^2 + 2.65202956136331e-24*cos(theta2)*cos(theta2 + theta3) - 1.74004006107545e-24*cos(theta2) - 2.02575979005193e-59*cos(theta3)^5*cos(theta2 + theta3) + 5.98014779488668e-43*cos(theta3)^5 - 8.02043351314214e-44*cos(theta3)^4*cos(theta2 + theta3)^2 + 1.52207582348929e-27*cos(theta3)^4*cos(theta2 + theta3) + 1.95108227317459e-41*cos(theta3)^4 - 7.29061528898234e-29*cos(theta3)^3*cos(theta2 + theta3)^3 + 3.38239071886509e-27*cos(theta3)^3*cos(theta2 + theta3)^2 + 4.26646638968557e-26*cos(theta3)^3*cos(theta2 + theta3) + 1.8899235687627e-40*cos(theta3)^3 - 1.62013673088496e-28*cos(theta3)^2*cos(theta2 + theta3)^4 + 6.7088030292407e-29*cos(theta3)^2*cos(theta2 + theta3)^3 + 6.22716299696936e-26*cos(theta3)^2*cos(theta2 + theta3)^2 + 4.25432077327408e-25*cos(theta3)^2*cos(theta2 + theta3) + 6.09898516049535e-40*cos(theta3)^2 - 9.00075961602756e-29*cos(theta3)*cos(theta2 + theta3)^5 - 2.46812847229638e-27*cos(theta3)*cos(theta2 + theta3)^4 + 1.89624246399257e-27*cos(theta3)*cos(theta2 + theta3)^3 + 3.46349040793488e-25*cos(theta3)*cos(theta2 + theta3)^2 + 1.76046632262571e-24*cos(theta3)*cos(theta2 + theta3) + 6.40478913692262e-40*cos(theta3) - 5.05305803005056e-28*cos(theta2 + theta3)^5 - 8.74991172989347e-27*cos(theta2 + theta3)^4 - 4.36886312193583e-27*cos(theta2 + theta3)^3 + 5.8025573321258e-25*cos(theta2 + theta3)^2 + 2.5119375317781e-24*cos(theta2 + theta3) + 1.44945219916276e-40)/(-2.4173125326e-29*cos(theta2)^6 + 1.68480351534995e-45*cos(theta2)^5*cos(theta3)^2 + 1.24318930248e-29*cos(theta2)^5*cos(theta3)*cos(theta2 + theta3) - 8.267208861492e-30*cos(theta2)^5*cos(theta3) - 1.837157524776e-29*cos(theta2)^5*cos(theta2 + theta3) - 7.95308805089001e-29*cos(theta2)^5 + 4.96910304784844e-46*cos(theta2)^4*cos(theta3)^3 + 4.2517074144816e-30*cos(theta2)^4*cos(theta3)^2*cos(theta2 + theta3) - 1.30351402739176e-29*cos(theta2)^4*cos(theta3)^2 + 9.448238698848e-30*cos(theta2)^4*cos(theta3)*cos(theta2 + theta3)^2 + 3.6189286639241e-29*cos(theta2)^4*cos(theta3)*cos(theta2 + theta3) + 4.61869822034009e-30*cos(theta2)^4*cos(theta3) - 1.18662418921716e-29*cos(theta2)^4*cos(theta2 + theta3)^2 - 4.53326018900731e-29*cos(theta2)^4*cos(theta2 + theta3) + 4.3594677937059e-29*cos(theta2)^4 + 3.57063225258603e-47*cos(theta2)^3*cos(theta3)^4 + 3.63520983938177e-31*cos(theta2)^3*cos(theta3)^3*cos(theta2 + theta3) - 4.21627651936092e-30*cos(theta2)^3*cos(theta3)^3 + 2.42347322625451e-30*cos(theta2)^3*cos(theta3)^2*cos(theta2 + theta3)^2 - 1.20134355055852e-29*cos(theta2)^3*cos(theta3)^2*cos(theta2 + theta3) - 3.43300293142612e-29*cos(theta2)^3*cos(theta3)^2 + 2.69274802917168e-30*cos(theta2)^3*cos(theta3)*cos(theta2 + theta3)^3 + 2.0150993536043e-29*cos(theta2)^3*cos(theta3)*cos(theta2 + theta3)^2 + 5.63534559650117e-30*cos(theta2)^3*cos(theta3)*cos(theta2 + theta3) + 9.7221157676726e-29*cos(theta2)^3*cos(theta3) - 5.70227450582974e-30*cos(theta2)^3*cos(theta2 + theta3)^3 - 3.04273787272693e-29*cos(theta2)^3*cos(theta2 + theta3)^2 + 3.59990216559352e-29*cos(theta2)^3*cos(theta2 + theta3) + 3.58648408559206e-28*cos(theta2)^3 + 1.89957635837577e-47*cos(theta2)^2*cos(theta3)^4*cos(theta2 + theta3) - 3.60491642405359e-31*cos(theta2)^2*cos(theta3)^4 + 1.38137973896507e-31*cos(theta2)^2*cos(theta3)^3*cos(theta2 + theta3)^2 - 5.60764777075002e-30*cos(theta2)^2*cos(theta3)^3*cos(theta2 + theta3) + 2.88826263059469e-30*cos(theta2)^2*cos(theta3)^3 + 4.60459912988358e-31*cos(theta2)^2*cos(theta3)^2*cos(theta2 + theta3)^3 - 3.79232906893446e-30*cos(theta2)^2*cos(theta3)^2*cos(theta2 + theta3)^2 - 6.29405194904902e-29*cos(theta2)^2*cos(theta3)^2*cos(theta2 + theta3) + 9.58935468786729e-30*cos(theta2)^2*cos(theta3)^2 + 3.41081417028413e-31*cos(theta2)^2*cos(theta3)*cos(theta2 + theta3)^4 + 3.08041897367519e-30*cos(theta2)^2*cos(theta3)*cos(theta2 + theta3)^3 + 2.90806924984375e-30*cos(theta2)^2*cos(theta3)*cos(theta2 + theta3)^2 - 7.28000339594151e-29*cos(theta2)^2*cos(theta3)*cos(theta2 + theta3) + 7.20879423926059e-29*cos(theta2)^2*cos(theta3) - 1.46763494088099e-30*cos(theta2)^2*cos(theta2 + theta3)^4 - 1.29795873992592e-29*cos(theta2)^2*cos(theta2 + theta3)^3 + 8.73500231364621e-30*cos(theta2)^2*cos(theta2 + theta3)^2 + 1.32078956143804e-28*cos(theta2)^2*cos(theta2 + theta3) + 1.72565285236144e-28*cos(theta2)^2 + 9.11591905523368e-64*cos(theta2)*cos(theta3)^5*cos(theta2 + theta3) - 2.69106650769901e-47*cos(theta2)*cos(theta3)^5 + 1.26321827831989e-47*cos(theta2)*cos(theta3)^4*cos(theta2 + theta3)^2 - 4.10960472342109e-31*cos(theta2)*cos(theta3)^4*cos(theta2 + theta3) + 3.17766707009168e-30*cos(theta2)*cos(theta3)^4 + 1.31231075201682e-32*cos(theta2)*cos(theta3)^3*cos(theta2 + theta3)^3 - 1.0654530764425e-30*cos(theta2)*cos(theta3)^3*cos(theta2 + theta3)^2 - 5.24643811206926e-30*cos(theta2)*cos(theta3)^3*cos(theta2 + theta3) + 4.06630232008378e-29*cos(theta2)*cos(theta3)^3 + 2.91624611559293e-32*cos(theta2)*cos(theta3)^2*cos(theta2 + theta3)^4 - 4.97662089495417e-31*cos(theta2)*cos(theta3)^2*cos(theta2 + theta3)^3 - 1.047463027015e-29*cos(theta2)*cos(theta3)^2*cos(theta2 + theta3)^2 - 4.29929048438523e-29*cos(theta2)*cos(theta3)^2*cos(theta2 + theta3) + 8.39207365825604e-29*cos(theta2)*cos(theta3)^2 + 1.62013673088496e-32*cos(theta2)*cos(theta3)*cos(theta2 + theta3)^5 + 3.4965424579252e-32*cos(theta2)*cos(theta3)*cos(theta2 + theta3)^4 + 6.21476991212799e-31*cos(theta2)*cos(theta3)*cos(theta2 + theta3)^3 + 5.15887830478587e-30*cos(theta2)*cos(theta3)*cos(theta2 + theta3)^2 - 8.42520199308358e-29*cos(theta2)*cos(theta3)*cos(theta2 + theta3) - 1.6867624438866e-28*cos(theta2)*cos(theta3) - 1.8191008908182e-31*cos(theta2)*cos(theta2 + theta3)^5 - 2.36247616707124e-30*cos(theta2)*cos(theta2 + theta3)^4 + 6.16670417728925e-31*cos(theta2)*cos(theta2 + theta3)^3 + 7.04447071666353e-29*cos(theta2)*cos(theta2 + theta3)^2 + 6.06543830095423e-30*cos(theta2)*cos(theta2 + theta3) - 4.02794188138399e-28*cos(theta2) + 1.38561969639552e-64*cos(theta3)^5*cos(theta2 + theta3)^2 - 1.32938685480331e-47*cos(theta3)^5*cos(theta2 + theta3) + 2.71690534492839e-31*cos(theta3)^5 + 1.95927732963902e-49*cos(theta3)^4*cos(theta2 + theta3)^3 - 1.30137482908335e-32*cos(theta3)^4*cos(theta2 + theta3)^2 + 6.03756743317419e-31*cos(theta3)^4*cos(theta2 + theta3) + 6.09036231194474e-30*cos(theta3)^4 + 1.0844025294549e-48*cos(theta3)^3*cos(theta2 + theta3)^4 - 2.89194406462966e-32*cos(theta3)^3*cos(theta2 + theta3)^3 + 2.31154131989653e-31*cos(theta3)^3*cos(theta2 + theta3)^2 + 7.72597440815918e-30*cos(theta3)^3*cos(theta2 + theta3) + 4.06211054992354e-29*cos(theta3)^3 + 1.61303439560337e-48*cos(theta3)^2*cos(theta2 + theta3)^5 - 2.30653465920323e-32*cos(theta3)^2*cos(theta2 + theta3)^4 + 4.65033312116703e-32*cos(theta3)^2*cos(theta2 + theta3)^3 + 3.1905625621327e-30*cos(theta3)^2*cos(theta2 + theta3)^2 + 1.59449399506865e-29*cos(theta3)^2*cos(theta2 + theta3) + 5.46041136575185e-29*cos(theta3)^2 + 7.22254206986584e-49*cos(theta3)*cos(theta2 + theta3)^6 - 1.55533126164956e-32*cos(theta3)*cos(theta2 + theta3)^5 + 4.57330301497445e-32*cos(theta3)*cos(theta2 + theta3)^4 + 4.27510802434887e-30*cos(theta3)*cos(theta2 + theta3)^3 + 2.21000322234703e-29*cos(theta3)*cos(theta2 + theta3)^2 - 3.20484864338455e-29*cos(theta3)*cos(theta2 + theta3) - 1.73177378730269e-28*cos(theta3) - 8.64072923138647e-33*cos(theta2 + theta3)^6 - 1.49623490581178e-31*cos(theta2 + theta3)^5 - 8.06193485042738e-33*cos(theta2 + theta3)^4 + 1.1076413479177e-29*cos(theta2 + theta3)^3 + 4.35303484319962e-29*cos(theta2 + theta3)^2 - 7.65308957462958e-29*cos(theta2 + theta3) - 3.31303627628766e-28) + (-9.0e-5*(D_THETA_1^2)*sin(theta2) - 1.71e-5*(D_THETA_1^2)*sin(theta2 + theta3) + 3.078e-5*D_THETA_1*D_THETA_3*sin(theta3) + 3.078e-5*D_THETA_2*D_THETA_3*sin(theta3) + 1.539e-5*(D_THETA_3^2)*sin(theta3) - 0.005*F3 + 0.005*F4 - 0.008829*cos(theta1 + theta2) - 0.00167751*cos(theta1 + theta2 + theta3))*(-2.685902814e-25*cos(theta2)^5 + 6.2159465124e-26*cos(theta2)^4*cos(theta3)^2 + 6.906607236e-26*cos(theta2)^4*cos(theta3)*cos(theta2 + theta3) - 9.18578762388e-26*cos(theta2)^4*cos(theta3) + 6.99296793485839e-42*cos(theta2)^4*cos(theta2 + theta3)^2 - 2.04128613864e-25*cos(theta2)^4*cos(theta2 + theta3) - 1.14152312024289e-24*cos(theta2)^4 + 2.1258537072408e-26*cos(theta2)^3*cos(theta3)^3 + 7.086179024136e-26*cos(theta2)^3*cos(theta3)^2*cos(theta2 + theta3) + 1.9665413003304e-25*cos(theta2)^3*cos(theta3)^2 + 5.24902149936e-26*cos(theta2)^3*cos(theta3)*cos(theta2 + theta3)^2 + 1.7487209771217e-25*cos(theta2)^3*cos(theta3)*cos(theta2 + theta3) - 3.68646920743583e-26*cos(theta2)^3*cos(theta3) + 2.65732781524619e-42*cos(theta2)^3*cos(theta2 + theta3)^3 - 5.817665495124e-26*cos(theta2)^3*cos(theta2 + theta3)^2 - 6.99659045865808e-25*cos(theta2)^3*cos(theta2 + theta3) - 9.32161743667168e-25*cos(theta2)^3 + 1.81760491969088e-27*cos(theta2)^2*cos(theta3)^4 + 1.41369271531513e-26*cos(theta2)^2*cos(theta3)^3*cos(theta2 + theta3) - 1.18766525665888e-26*cos(theta2)^2*cos(theta3)^3 + 2.69274802917168e-26*cos(theta2)^2*cos(theta3)^2*cos(theta2 + theta3)^2 + 1.00388804688789e-25*cos(theta2)^2*cos(theta3)^2*cos(theta2 + theta3) + 8.10917262741545e-26*cos(theta2)^2*cos(theta3)^2 + 1.4959711273176e-26*cos(theta2)^2*cos(theta3)*cos(theta2 + theta3)^3 + 1.19573511689261e-25*cos(theta2)^2*cos(theta3)*cos(theta2 + theta3)^2 - 9.20656920992465e-27*cos(theta2)^2*cos(theta3)*cos(theta2 + theta3) + 9.35170759248721e-25*cos(theta2)^2*cos(theta3) + 2.52446142448388e-43*cos(theta2)^2*cos(theta2 + theta3)^4 - 7.3690429604904e-27*cos(theta2)^2*cos(theta2 + theta3)^3 - 1.515517482989e-25*cos(theta2)^2*cos(theta2 + theta3)^2 - 5.15404047091562e-25*cos(theta2)^2*cos(theta2 + theta3) + 2.03503663649485e-24*cos(theta2)^2 + 1.99136488891557e-59*cos(theta2)*cos(theta3)^5 + 6.90689869482537e-28*cos(theta2)*cos(theta3)^4*cos(theta2 + theta3) - 1.60218507735715e-26*cos(theta2)*cos(theta3)^4 + 3.06973275325572e-27*cos(theta2)*cos(theta3)^3*cos(theta2 + theta3)^2 - 2.23151843903832e-26*cos(theta2)*cos(theta3)^3*cos(theta2 + theta3) - 1.99104462632765e-25*cos(theta2)*cos(theta3)^3 + 4.26351771285516e-27*cos(theta2)*cos(theta3)^2*cos(theta2 + theta3)^3 + 1.68501034991616e-26*cos(theta2)*cos(theta3)^2*cos(theta2 + theta3)^2 - 2.10142937245606e-25*cos(theta2)*cos(theta3)^2*cos(theta2 + theta3) - 2.90442132213305e-25*cos(theta2)*cos(theta3)^2 + 1.89489676126896e-27*cos(theta2)*cos(theta3)*cos(theta2 + theta3)^4 + 2.39790735672035e-26*cos(theta2)*cos(theta3)*cos(theta2 + theta3)^3 + 4.93949851881683e-28*cos(theta2)*cos(theta3)*cos(theta2 + theta3)^2 - 3.5694674390298e-25*cos(theta2)*cos(theta3)*cos(theta2 + theta3) + 1.76001351545894e-24*cos(theta2)*cos(theta3) - 3.50029540623296e-28*cos(theta2)*cos(theta2 + theta3)^4 - 1.31354180132991e-26*cos(theta2)*cos(theta2 + theta3)^3 - 9.4900421055639e-26*cos(theta2)*cos(theta2 + theta3)^2 + 3.71365940007247e-25*cos(theta2)*cos(theta2 + theta3) + 3.77093512731948e-24*cos(theta2) + 4.64039367546081e-44*cos(theta3)^5*cos(theta2 + theta3) - 1.36986824114036e-27*cos(theta3)^5 + 6.56155376008411e-29*cos(theta3)^4*cos(theta2 + theta3)^2 - 4.56622747046788e-27*cos(theta3)^4*cos(theta2 + theta3) - 3.07077091358558e-26*cos(theta3)^4 + 2.1871845866947e-28*cos(theta3)^3*cos(theta2 + theta3)^3 - 3.81113787651895e-27*cos(theta3)^3*cos(theta2 + theta3)^2 - 7.30741696318655e-26*cos(theta3)^3*cos(theta2 + theta3) - 2.048122966348e-25*cos(theta3)^3 + 2.43020509632744e-28*cos(theta3)^2*cos(theta2 + theta3)^4 + 9.26334493472043e-28*cos(theta3)^2*cos(theta2 + theta3)^3 - 4.28545693951622e-26*cos(theta3)^2*cos(theta2 + theta3)^2 - 3.14277669705205e-25*cos(theta3)^2*cos(theta2 + theta3) - 2.75314858777404e-25*cos(theta3)^2 + 9.00075961602757e-29*cos(theta3)*cos(theta2 + theta3)^5 + 1.55857802688727e-27*cos(theta3)*cos(theta2 + theta3)^4 + 1.73352697397771e-28*cos(theta3)*cos(theta2 + theta3)^3 - 1.01579545750445e-25*cos(theta3)*cos(theta2 + theta3)^2 - 2.85849865618501e-25*cos(theta3)*cos(theta2 + theta3) + 8.73163254102196e-25*cos(theta3) - 3.36028358998364e-28*cos(theta2 + theta3)^4 - 5.81869130037915e-27*cos(theta2 + theta3)^3 - 2.90529397608726e-27*cos(theta2 + theta3)^2 + 3.85870062586365e-25*cos(theta2 + theta3) + 1.67043845863244e-24)/(-2.4173125326e-29*cos(theta2)^6 + 1.68480351534995e-45*cos(theta2)^5*cos(theta3)^2 + 1.24318930248e-29*cos(theta2)^5*cos(theta3)*cos(theta2 + theta3) - 8.267208861492e-30*cos(theta2)^5*cos(theta3) - 1.837157524776e-29*cos(theta2)^5*cos(theta2 + theta3) - 7.95308805089001e-29*cos(theta2)^5 + 4.96910304784844e-46*cos(theta2)^4*cos(theta3)^3 + 4.2517074144816e-30*cos(theta2)^4*cos(theta3)^2*cos(theta2 + theta3) - 1.30351402739176e-29*cos(theta2)^4*cos(theta3)^2 + 9.448238698848e-30*cos(theta2)^4*cos(theta3)*cos(theta2 + theta3)^2 + 3.6189286639241e-29*cos(theta2)^4*cos(theta3)*cos(theta2 + theta3) + 4.61869822034009e-30*cos(theta2)^4*cos(theta3) - 1.18662418921716e-29*cos(theta2)^4*cos(theta2 + theta3)^2 - 4.53326018900731e-29*cos(theta2)^4*cos(theta2 + theta3) + 4.3594677937059e-29*cos(theta2)^4 + 3.57063225258603e-47*cos(theta2)^3*cos(theta3)^4 + 3.63520983938177e-31*cos(theta2)^3*cos(theta3)^3*cos(theta2 + theta3) - 4.21627651936092e-30*cos(theta2)^3*cos(theta3)^3 + 2.42347322625451e-30*cos(theta2)^3*cos(theta3)^2*cos(theta2 + theta3)^2 - 1.20134355055852e-29*cos(theta2)^3*cos(theta3)^2*cos(theta2 + theta3) - 3.43300293142612e-29*cos(theta2)^3*cos(theta3)^2 + 2.69274802917168e-30*cos(theta2)^3*cos(theta3)*cos(theta2 + theta3)^3 + 2.0150993536043e-29*cos(theta2)^3*cos(theta3)*cos(theta2 + theta3)^2 + 5.63534559650117e-30*cos(theta2)^3*cos(theta3)*cos(theta2 + theta3) + 9.7221157676726e-29*cos(theta2)^3*cos(theta3) - 5.70227450582974e-30*cos(theta2)^3*cos(theta2 + theta3)^3 - 3.04273787272693e-29*cos(theta2)^3*cos(theta2 + theta3)^2 + 3.59990216559352e-29*cos(theta2)^3*cos(theta2 + theta3) + 3.58648408559206e-28*cos(theta2)^3 + 1.89957635837577e-47*cos(theta2)^2*cos(theta3)^4*cos(theta2 + theta3) - 3.60491642405359e-31*cos(theta2)^2*cos(theta3)^4 + 1.38137973896507e-31*cos(theta2)^2*cos(theta3)^3*cos(theta2 + theta3)^2 - 5.60764777075002e-30*cos(theta2)^2*cos(theta3)^3*cos(theta2 + theta3) + 2.88826263059469e-30*cos(theta2)^2*cos(theta3)^3 + 4.60459912988358e-31*cos(theta2)^2*cos(theta3)^2*cos(theta2 + theta3)^3 - 3.79232906893446e-30*cos(theta2)^2*cos(theta3)^2*cos(theta2 + theta3)^2 - 6.29405194904902e-29*cos(theta2)^2*cos(theta3)^2*cos(theta2 + theta3) + 9.58935468786729e-30*cos(theta2)^2*cos(theta3)^2 + 3.41081417028413e-31*cos(theta2)^2*cos(theta3)*cos(theta2 + theta3)^4 + 3.08041897367519e-30*cos(theta2)^2*cos(theta3)*cos(theta2 + theta3)^3 + 2.90806924984375e-30*cos(theta2)^2*cos(theta3)*cos(theta2 + theta3)^2 - 7.28000339594151e-29*cos(theta2)^2*cos(theta3)*cos(theta2 + theta3) + 7.20879423926059e-29*cos(theta2)^2*cos(theta3) - 1.46763494088099e-30*cos(theta2)^2*cos(theta2 + theta3)^4 - 1.29795873992592e-29*cos(theta2)^2*cos(theta2 + theta3)^3 + 8.73500231364621e-30*cos(theta2)^2*cos(theta2 + theta3)^2 + 1.32078956143804e-28*cos(theta2)^2*cos(theta2 + theta3) + 1.72565285236144e-28*cos(theta2)^2 + 9.11591905523368e-64*cos(theta2)*cos(theta3)^5*cos(theta2 + theta3) - 2.69106650769901e-47*cos(theta2)*cos(theta3)^5 + 1.26321827831989e-47*cos(theta2)*cos(theta3)^4*cos(theta2 + theta3)^2 - 4.10960472342109e-31*cos(theta2)*cos(theta3)^4*cos(theta2 + theta3) + 3.17766707009168e-30*cos(theta2)*cos(theta3)^4 + 1.31231075201682e-32*cos(theta2)*cos(theta3)^3*cos(theta2 + theta3)^3 - 1.0654530764425e-30*cos(theta2)*cos(theta3)^3*cos(theta2 + theta3)^2 - 5.24643811206926e-30*cos(theta2)*cos(theta3)^3*cos(theta2 + theta3) + 4.06630232008378e-29*cos(theta2)*cos(theta3)^3 + 2.91624611559293e-32*cos(theta2)*cos(theta3)^2*cos(theta2 + theta3)^4 - 4.97662089495417e-31*cos(theta2)*cos(theta3)^2*cos(theta2 + theta3)^3 - 1.047463027015e-29*cos(theta2)*cos(theta3)^2*cos(theta2 + theta3)^2 - 4.29929048438523e-29*cos(theta2)*cos(theta3)^2*cos(theta2 + theta3) + 8.39207365825604e-29*cos(theta2)*cos(theta3)^2 + 1.62013673088496e-32*cos(theta2)*cos(theta3)*cos(theta2 + theta3)^5 + 3.4965424579252e-32*cos(theta2)*cos(theta3)*cos(theta2 + theta3)^4 + 6.21476991212799e-31*cos(theta2)*cos(theta3)*cos(theta2 + theta3)^3 + 5.15887830478587e-30*cos(theta2)*cos(theta3)*cos(theta2 + theta3)^2 - 8.42520199308358e-29*cos(theta2)*cos(theta3)*cos(theta2 + theta3) - 1.6867624438866e-28*cos(theta2)*cos(theta3) - 1.8191008908182e-31*cos(theta2)*cos(theta2 + theta3)^5 - 2.36247616707124e-30*cos(theta2)*cos(theta2 + theta3)^4 + 6.16670417728925e-31*cos(theta2)*cos(theta2 + theta3)^3 + 7.04447071666353e-29*cos(theta2)*cos(theta2 + theta3)^2 + 6.06543830095423e-30*cos(theta2)*cos(theta2 + theta3) - 4.02794188138399e-28*cos(theta2) + 1.38561969639552e-64*cos(theta3)^5*cos(theta2 + theta3)^2 - 1.32938685480331e-47*cos(theta3)^5*cos(theta2 + theta3) + 2.71690534492839e-31*cos(theta3)^5 + 1.95927732963902e-49*cos(theta3)^4*cos(theta2 + theta3)^3 - 1.30137482908335e-32*cos(theta3)^4*cos(theta2 + theta3)^2 + 6.03756743317419e-31*cos(theta3)^4*cos(theta2 + theta3) + 6.09036231194474e-30*cos(theta3)^4 + 1.0844025294549e-48*cos(theta3)^3*cos(theta2 + theta3)^4 - 2.89194406462966e-32*cos(theta3)^3*cos(theta2 + theta3)^3 + 2.31154131989653e-31*cos(theta3)^3*cos(theta2 + theta3)^2 + 7.72597440815918e-30*cos(theta3)^3*cos(theta2 + theta3) + 4.06211054992354e-29*cos(theta3)^3 + 1.61303439560337e-48*cos(theta3)^2*cos(theta2 + theta3)^5 - 2.30653465920323e-32*cos(theta3)^2*cos(theta2 + theta3)^4 + 4.65033312116703e-32*cos(theta3)^2*cos(theta2 + theta3)^3 + 3.1905625621327e-30*cos(theta3)^2*cos(theta2 + theta3)^2 + 1.59449399506865e-29*cos(theta3)^2*cos(theta2 + theta3) + 5.46041136575185e-29*cos(theta3)^2 + 7.22254206986584e-49*cos(theta3)*cos(theta2 + theta3)^6 - 1.55533126164956e-32*cos(theta3)*cos(theta2 + theta3)^5 + 4.57330301497445e-32*cos(theta3)*cos(theta2 + theta3)^4 + 4.27510802434887e-30*cos(theta3)*cos(theta2 + theta3)^3 + 2.21000322234703e-29*cos(theta3)*cos(theta2 + theta3)^2 - 3.20484864338455e-29*cos(theta3)*cos(theta2 + theta3) - 1.73177378730269e-28*cos(theta3) - 8.64072923138647e-33*cos(theta2 + theta3)^6 - 1.49623490581178e-31*cos(theta2 + theta3)^5 - 8.06193485042738e-33*cos(theta2 + theta3)^4 + 1.1076413479177e-29*cos(theta2 + theta3)^3 + 4.35303484319962e-29*cos(theta2 + theta3)^2 - 7.65308957462958e-29*cos(theta2 + theta3) - 3.31303627628766e-28) + (0.00018*D_THETA_1*D_THETA_2*sin(theta2) + 3.42e-5*D_THETA_1*D_THETA_2*sin(theta2 + theta3) + 3.078e-5*D_THETA_1*D_THETA_3*sin(theta3) + 3.42e-5*D_THETA_1*D_THETA_3*sin(theta2 + theta3) + 9.0e-5*(D_THETA_2^2)*sin(theta2) + 1.71e-5*(D_THETA_2^2)*sin(theta2 + theta3) + 3.078e-5*D_THETA_2*D_THETA_3*sin(theta3) + 3.42e-5*D_THETA_2*D_THETA_3*sin(theta2 + theta3) + 1.539e-5*(D_THETA_3^2)*sin(theta3) + 1.71e-5*(D_THETA_3^2)*sin(theta2 + theta3) - 0.005*F1 + 0.005*F2 - 0.018639*cos(theta1) - 0.008829*cos(theta1 + theta2) - 0.00167751*cos(theta1 + theta2 + theta3))*(-6.2159465124e-26*cos(theta2)^4*cos(theta3)^2 + 1.25873422827451e-41*cos(theta2)^4*cos(theta3)*cos(theta2 + theta3) + 1.14794370197489e-41*cos(theta2)^4*cos(theta3) - 6.37236764452981e-58*cos(theta2)^4*cos(theta2 + theta3)^2 + 9.30064735336166e-42*cos(theta2)^4*cos(theta2 + theta3) + 2.57846670144e-25*cos(theta2)^4 - 2.1258537072408e-26*cos(theta2)^3*cos(theta3)^3 - 4.724119349424e-26*cos(theta2)^3*cos(theta3)^2*cos(theta2 + theta3) - 2.04507978451457e-25*cos(theta2)^3*cos(theta3)^2 + 1.59309191113245e-58*cos(theta2)^3*cos(theta3)*cos(theta2 + theta3)^2 + 2.29588740394978e-41*cos(theta2)^3*cos(theta3)*cos(theta2 + theta3) + 8.81835611892481e-26*cos(theta2)^3*cos(theta3) - 1.16593754377894e-41*cos(theta2)^3*cos(theta2 + theta3)^2 + 1.9596346930944e-25*cos(theta2)^3*cos(theta2 + theta3) + 8.48329392094935e-25*cos(theta2)^3 - 1.81760491969088e-27*cos(theta2)^2*cos(theta3)^4 - 1.21173661312726e-26*cos(theta2)^2*cos(theta3)^3*cos(theta2 + theta3) + 1.18766525665888e-26*cos(theta2)^2*cos(theta3)^3 - 1.34637401458584e-26*cos(theta2)^2*cos(theta3)^2*cos(theta2 + theta3)^2 - 1.16569547717331e-25*cos(theta2)^2*cos(theta3)^2*cos(theta2 + theta3) - 1.1861506882179e-26*cos(theta2)^2*cos(theta3)^2 - 4.54403056407098e-43*cos(theta2)^2*cos(theta3)*cos(theta2 + theta3)^3 - 1.14794370197489e-41*cos(theta2)^2*cos(theta3)*cos(theta2 + theta3)^2 + 5.02646298778714e-26*cos(theta2)^2*cos(theta3)*cos(theta2 + theta3) - 4.92661143502941e-26*cos(theta2)^2*cos(theta3) - 2.55103470263634e-42*cos(theta2)^2*cos(theta2 + theta3)^3 + 5.58495887531904e-26*cos(theta2)^2*cos(theta2 + theta3)^2 + 4.83547753494113e-25*cos(theta2)^2*cos(theta2 + theta3) + 8.04790575093442e-26*cos(theta2)^2 - 6.90689869482537e-28*cos(theta2)*cos(theta3)^4*cos(theta2 + theta3) + 1.60218507735715e-26*cos(theta2)*cos(theta3)^4 - 2.30229956494179e-27*cos(theta2)*cos(theta3)^3*cos(theta2 + theta3)^2 + 4.51312797530374e-27*cos(theta2)*cos(theta3)^3*cos(theta2 + theta3) + 2.05023646390779e-25*cos(theta2)*cos(theta3)^3 - 1.70540708514206e-27*cos(theta2)*cos(theta3)^2*cos(theta2 + theta3)^3 - 2.21482140662928e-26*cos(theta2)*cos(theta3)^2*cos(theta2 + theta3)^2 - 4.50737261522801e-27*cos(theta2)*cos(theta3)^2*cos(theta2 + theta3) + 4.23129764281817e-25*cos(theta2)*cos(theta3)^2 + 9.55027967679557e-27*cos(theta2)*cos(theta3)*cos(theta2 + theta3)^2 - 1.87211234531119e-26*cos(theta2)*cos(theta3)*cos(theta2 + theta3) - 8.5046845910249e-25*cos(theta2)*cos(theta3) + 7.07428124207079e-27*cos(theta2)*cos(theta2 + theta3)^3 + 9.18740731638814e-26*cos(theta2)*cos(theta2 + theta3)^2 + 3.05820418535508e-26*cos(theta2)*cos(theta2 + theta3) - 2.03089506624403e-24*cos(theta2) - 4.64039367546081e-44*cos(theta3)^5*cos(theta2 + theta3) + 1.36986824114036e-27*cos(theta3)^5 - 6.5615537600841e-29*cos(theta3)^4*cos(theta2 + theta3)^2 + 3.04415164697858e-27*cos(theta3)^4*cos(theta2 + theta3) + 3.07077091358558e-26*cos(theta3)^4 - 1.45812305779647e-28*cos(theta3)^3*cos(theta2 + theta3)^3 + 4.28747157653854e-28*cos(theta3)^3*cos(theta2 + theta3)^2 + 3.89544928142479e-26*cos(theta3)^3*cos(theta2 + theta3) + 2.048122966348e-25*cos(theta3)^3 - 8.10068365442481e-29*cos(theta3)^2*cos(theta2 + theta3)^4 - 1.40272022419855e-27*cos(theta3)^2*cos(theta2 + theta3)^3 - 4.28200398446673e-28*cos(theta3)^2*cos(theta2 + theta3)^2 + 8.03946552135452e-26*cos(theta3)^2*cos(theta2 + theta3) + 2.75314858777404e-25*cos(theta3)^2 + 1.79366203433577e-43*cos(theta3)*cos(theta2 + theta3)^4 + 6.04851046197053e-28*cos(theta3)*cos(theta2 + theta3)^3 - 1.7785067280456e-27*cos(theta3)*cos(theta2 + theta3)^2 - 1.61589007229473e-25*cos(theta3)*cos(theta2 + theta3) - 8.73163254102196e-25*cos(theta3) + 3.36028358998363e-28*cos(theta2 + theta3)^4 + 5.81869130037916e-27*cos(theta2 + theta3)^3 + 2.90529397608731e-27*cos(theta2 + theta3)^2 - 3.85870062586365e-25*cos(theta2 + theta3) - 1.67043845863244e-24)/(-2.4173125326e-29*cos(theta2)^6 + 1.68480351534995e-45*cos(theta2)^5*cos(theta3)^2 + 1.24318930248e-29*cos(theta2)^5*cos(theta3)*cos(theta2 + theta3) - 8.267208861492e-30*cos(theta2)^5*cos(theta3) - 1.837157524776e-29*cos(theta2)^5*cos(theta2 + theta3) - 7.95308805089001e-29*cos(theta2)^5 + 4.96910304784844e-46*cos(theta2)^4*cos(theta3)^3 + 4.2517074144816e-30*cos(theta2)^4*cos(theta3)^2*cos(theta2 + theta3) - 1.30351402739176e-29*cos(theta2)^4*cos(theta3)^2 + 9.448238698848e-30*cos(theta2)^4*cos(theta3)*cos(theta2 + theta3)^2 + 3.6189286639241e-29*cos(theta2)^4*cos(theta3)*cos(theta2 + theta3) + 4.61869822034009e-30*cos(theta2)^4*cos(theta3) - 1.18662418921716e-29*cos(theta2)^4*cos(theta2 + theta3)^2 - 4.53326018900731e-29*cos(theta2)^4*cos(theta2 + theta3) + 4.3594677937059e-29*cos(theta2)^4 + 3.57063225258603e-47*cos(theta2)^3*cos(theta3)^4 + 3.63520983938177e-31*cos(theta2)^3*cos(theta3)^3*cos(theta2 + theta3) - 4.21627651936092e-30*cos(theta2)^3*cos(theta3)^3 + 2.42347322625451e-30*cos(theta2)^3*cos(theta3)^2*cos(theta2 + theta3)^2 - 1.20134355055852e-29*cos(theta2)^3*cos(theta3)^2*cos(theta2 + theta3) - 3.43300293142612e-29*cos(theta2)^3*cos(theta3)^2 + 2.69274802917168e-30*cos(theta2)^3*cos(theta3)*cos(theta2 + theta3)^3 + 2.0150993536043e-29*cos(theta2)^3*cos(theta3)*cos(theta2 + theta3)^2 + 5.63534559650117e-30*cos(theta2)^3*cos(theta3)*cos(theta2 + theta3) + 9.7221157676726e-29*cos(theta2)^3*cos(theta3) - 5.70227450582974e-30*cos(theta2)^3*cos(theta2 + theta3)^3 - 3.04273787272693e-29*cos(theta2)^3*cos(theta2 + theta3)^2 + 3.59990216559352e-29*cos(theta2)^3*cos(theta2 + theta3) + 3.58648408559206e-28*cos(theta2)^3 + 1.89957635837577e-47*cos(theta2)^2*cos(theta3)^4*cos(theta2 + theta3) - 3.60491642405359e-31*cos(theta2)^2*cos(theta3)^4 + 1.38137973896507e-31*cos(theta2)^2*cos(theta3)^3*cos(theta2 + theta3)^2 - 5.60764777075002e-30*cos(theta2)^2*cos(theta3)^3*cos(theta2 + theta3) + 2.88826263059469e-30*cos(theta2)^2*cos(theta3)^3 + 4.60459912988358e-31*cos(theta2)^2*cos(theta3)^2*cos(theta2 + theta3)^3 - 3.79232906893446e-30*cos(theta2)^2*cos(theta3)^2*cos(theta2 + theta3)^2 - 6.29405194904902e-29*cos(theta2)^2*cos(theta3)^2*cos(theta2 + theta3) + 9.58935468786729e-30*cos(theta2)^2*cos(theta3)^2 + 3.41081417028413e-31*cos(theta2)^2*cos(theta3)*cos(theta2 + theta3)^4 + 3.08041897367519e-30*cos(theta2)^2*cos(theta3)*cos(theta2 + theta3)^3 + 2.90806924984375e-30*cos(theta2)^2*cos(theta3)*cos(theta2 + theta3)^2 - 7.28000339594151e-29*cos(theta2)^2*cos(theta3)*cos(theta2 + theta3) + 7.20879423926059e-29*cos(theta2)^2*cos(theta3) - 1.46763494088099e-30*cos(theta2)^2*cos(theta2 + theta3)^4 - 1.29795873992592e-29*cos(theta2)^2*cos(theta2 + theta3)^3 + 8.73500231364621e-30*cos(theta2)^2*cos(theta2 + theta3)^2 + 1.32078956143804e-28*cos(theta2)^2*cos(theta2 + theta3) + 1.72565285236144e-28*cos(theta2)^2 + 9.11591905523368e-64*cos(theta2)*cos(theta3)^5*cos(theta2 + theta3) - 2.69106650769901e-47*cos(theta2)*cos(theta3)^5 + 1.26321827831989e-47*cos(theta2)*cos(theta3)^4*cos(theta2 + theta3)^2 - 4.10960472342109e-31*cos(theta2)*cos(theta3)^4*cos(theta2 + theta3) + 3.17766707009168e-30*cos(theta2)*cos(theta3)^4 + 1.31231075201682e-32*cos(theta2)*cos(theta3)^3*cos(theta2 + theta3)^3 - 1.0654530764425e-30*cos(theta2)*cos(theta3)^3*cos(theta2 + theta3)^2 - 5.24643811206926e-30*cos(theta2)*cos(theta3)^3*cos(theta2 + theta3) + 4.06630232008378e-29*cos(theta2)*cos(theta3)^3 + 2.91624611559293e-32*cos(theta2)*cos(theta3)^2*cos(theta2 + theta3)^4 - 4.97662089495417e-31*cos(theta2)*cos(theta3)^2*cos(theta2 + theta3)^3 - 1.047463027015e-29*cos(theta2)*cos(theta3)^2*cos(theta2 + theta3)^2 - 4.29929048438523e-29*cos(theta2)*cos(theta3)^2*cos(theta2 + theta3) + 8.39207365825604e-29*cos(theta2)*cos(theta3)^2 + 1.62013673088496e-32*cos(theta2)*cos(theta3)*cos(theta2 + theta3)^5 + 3.4965424579252e-32*cos(theta2)*cos(theta3)*cos(theta2 + theta3)^4 + 6.21476991212799e-31*cos(theta2)*cos(theta3)*cos(theta2 + theta3)^3 + 5.15887830478587e-30*cos(theta2)*cos(theta3)*cos(theta2 + theta3)^2 - 8.42520199308358e-29*cos(theta2)*cos(theta3)*cos(theta2 + theta3) - 1.6867624438866e-28*cos(theta2)*cos(theta3) - 1.8191008908182e-31*cos(theta2)*cos(theta2 + theta3)^5 - 2.36247616707124e-30*cos(theta2)*cos(theta2 + theta3)^4 + 6.16670417728925e-31*cos(theta2)*cos(theta2 + theta3)^3 + 7.04447071666353e-29*cos(theta2)*cos(theta2 + theta3)^2 + 6.06543830095423e-30*cos(theta2)*cos(theta2 + theta3) - 4.02794188138399e-28*cos(theta2) + 1.38561969639552e-64*cos(theta3)^5*cos(theta2 + theta3)^2 - 1.32938685480331e-47*cos(theta3)^5*cos(theta2 + theta3) + 2.71690534492839e-31*cos(theta3)^5 + 1.95927732963902e-49*cos(theta3)^4*cos(theta2 + theta3)^3 - 1.30137482908335e-32*cos(theta3)^4*cos(theta2 + theta3)^2 + 6.03756743317419e-31*cos(theta3)^4*cos(theta2 + theta3) + 6.09036231194474e-30*cos(theta3)^4 + 1.0844025294549e-48*cos(theta3)^3*cos(theta2 + theta3)^4 - 2.89194406462966e-32*cos(theta3)^3*cos(theta2 + theta3)^3 + 2.31154131989653e-31*cos(theta3)^3*cos(theta2 + theta3)^2 + 7.72597440815918e-30*cos(theta3)^3*cos(theta2 + theta3) + 4.06211054992354e-29*cos(theta3)^3 + 1.61303439560337e-48*cos(theta3)^2*cos(theta2 + theta3)^5 - 2.30653465920323e-32*cos(theta3)^2*cos(theta2 + theta3)^4 + 4.65033312116703e-32*cos(theta3)^2*cos(theta2 + theta3)^3 + 3.1905625621327e-30*cos(theta3)^2*cos(theta2 + theta3)^2 + 1.59449399506865e-29*cos(theta3)^2*cos(theta2 + theta3) + 5.46041136575185e-29*cos(theta3)^2 + 7.22254206986584e-49*cos(theta3)*cos(theta2 + theta3)^6 - 1.55533126164956e-32*cos(theta3)*cos(theta2 + theta3)^5 + 4.57330301497445e-32*cos(theta3)*cos(theta2 + theta3)^4 + 4.27510802434887e-30*cos(theta3)*cos(theta2 + theta3)^3 + 2.21000322234703e-29*cos(theta3)*cos(theta2 + theta3)^2 - 3.20484864338455e-29*cos(theta3)*cos(theta2 + theta3) - 1.73177378730269e-28*cos(theta3) - 8.64072923138647e-33*cos(theta2 + theta3)^6 - 1.49623490581178e-31*cos(theta2 + theta3)^5 - 8.06193485042738e-33*cos(theta2 + theta3)^4 + 1.1076413479177e-29*cos(theta2 + theta3)^3 + 4.35303484319962e-29*cos(theta2 + theta3)^2 - 7.65308957462958e-29*cos(theta2 + theta3) - 3.31303627628766e-28) ;\n",
            "D2_THETA_2 =  (-1.539e-5*(D_THETA_1^2)*sin(theta3) - 1.71e-5*(D_THETA_1^2)*sin(theta2 + theta3) - 3.078e-5*D_THETA_1*D_THETA_2*sin(theta3) - 1.539e-5*(D_THETA_2^2)*sin(theta3) - 0.005*F5 + 0.005*F6 - 0.00167751*cos(theta1 + theta2 + theta3))*(-2.0194758e-21*cos(theta2)^4*cos(theta3) + 2.243862e-21*cos(theta2)^4*cos(theta2 + theta3) - 1.49216823e-21*cos(theta2)^4 - 3.453303618e-22*cos(theta2)^3*cos(theta3)^2 - 3.83700402e-22*cos(theta2)^3*cos(theta3)*cos(theta2 + theta3) - 8.027578984995e-21*cos(theta2)^3*cos(theta3) + 1.70533512e-21*cos(theta2)^3*cos(theta2 + theta3)^2 + 4.99478487075e-21*cos(theta2)^3*cos(theta2 + theta3) - 5.74295346083025e-21*cos(theta2)^3 + 2.5778876995062e-38*cos(theta2)^2*cos(theta3)^3 - 6.56127687419999e-23*cos(theta2)^2*cos(theta3)^2*cos(theta2 + theta3) + 7.610057973e-22*cos(theta2)^2*cos(theta3)^2 + 2.1870922914e-22*cos(theta2)^2*cos(theta3)*cos(theta2 + theta3)^2 - 4.58761615502175e-21*cos(theta2)^2*cos(theta3)*cos(theta2 + theta3) - 1.9239955589925e-21*cos(theta2)^2*cos(theta3) + 4.860205092e-22*cos(theta2)^2*cos(theta2 + theta3)^3 + 3.1702310149455e-21*cos(theta2)^2*cos(theta2 + theta3)^2 - 4.63532505183949e-21*cos(theta2)^2*cos(theta2 + theta3) - 1.83709522317037e-21*cos(theta2)^2 + 9.79597325812365e-40*cos(theta2)*cos(theta3)^3*cos(theta2 + theta3) + 2.602639826766e-22*cos(theta2)*cos(theta3)^3 + 1.246642606098e-23*cos(theta2)*cos(theta3)^2*cos(theta2 + theta3)^2 - 5.78364405948e-22*cos(theta2)*cos(theta3)^2*cos(theta2 + theta3) + 6.87683734292142e-21*cos(theta2)*cos(theta3)^2 + 6.9257922561e-23*cos(theta2)*cos(theta3)*cos(theta2 + theta3)^3 - 8.73907334833306e-22*cos(theta2)*cos(theta3)*cos(theta2 + theta3)^2 - 8.10594406956285e-21*cos(theta2)*cos(theta3)*cos(theta2 + theta3) + 2.35462446511192e-20*cos(theta2)*cos(theta3) + 6.1562597832e-23*cos(theta2)*cos(theta2 + theta3)^4 + 6.22813456618785e-22*cos(theta2)*cos(theta2 + theta3)^3 - 1.13946165989109e-21*cos(theta2)*cos(theta2 + theta3)^2 - 1.53704820058556e-20*cos(theta2)*cos(theta2 + theta3) + 1.37485933623811e-20*cos(theta2) + 6.58141582213102e-55*cos(theta3)^4*cos(theta2 + theta3) - 1.94286802952784e-38*cos(theta3)^4 + 2.60572888666087e-39*cos(theta3)^3*cos(theta2 + theta3)^2 - 4.9450156708554e-23*cos(theta3)^3*cos(theta2 + theta3) + 5.73544702565099e-22*cos(theta3)^3 + 2.36862095158621e-24*cos(theta3)^2*cos(theta2 + theta3)^3 - 1.3736154641265e-22*cos(theta3)^2*cos(theta2 + theta3)^2 - 2.73132055186345e-22*cos(theta3)^2*cos(theta2 + theta3) + 7.76315177451386e-21*cos(theta3)^2 + 5.263602114636e-24*cos(theta3)*cos(theta2 + theta3)^4 - 5.54906146801237e-23*cos(theta3)*cos(theta2 + theta3)^3 - 1.47067313353731e-21*cos(theta3)*cos(theta2 + theta3)^2 - 2.56843940741033e-21*cos(theta3)*cos(theta2 + theta3) + 2.29491781074512e-20*cos(theta3) + 2.92422339702e-24*cos(theta2 + theta3)^5 + 4.00930551055292e-23*cos(theta2 + theta3)^4 - 8.85533987957364e-23*cos(theta2 + theta3)^3 - 2.85407244355612e-21*cos(theta2 + theta3)^2 - 6.98756038638342e-21*cos(theta2 + theta3) + 1.29499160281121e-20)/(-1.342951407e-25*cos(theta2)^5 + 9.36001952972197e-42*cos(theta2)^4*cos(theta3)^2 + 6.906607236e-26*cos(theta2)^4*cos(theta3)*cos(theta2 + theta3) - 2.29644690597e-26*cos(theta2)^4*cos(theta3) - 7.65482301990001e-26*cos(theta2)^4*cos(theta2 + theta3) - 2.20919112524723e-25*cos(theta2)^4 + 1.16004946477779e-42*cos(theta2)^3*cos(theta3)^3 + 1.181029837356e-26*cos(theta2)^3*cos(theta3)^2*cos(theta2 + theta3) - 6.8490521757e-26*cos(theta2)^3*cos(theta3)^2 + 3.93676612452e-26*cos(theta2)^3*cos(theta3)*cos(theta2 + theta3)^2 + 1.04889045341457e-25*cos(theta2)^3*cos(theta3)*cos(theta2 + theta3) + 1.012137710409e-25*cos(theta2)^3*cos(theta3) - 5.137940232981e-26*cos(theta2)^3*cos(theta2 + theta3)^2 - 8.39492627593946e-26*cos(theta2)^3*cos(theta2 + theta3) + 6.05610527396333e-25*cos(theta2)^3 + 6.17146315261784e-43*cos(theta2)^2*cos(theta3)^3*cos(theta2 + theta3) - 1.1711879220447e-26*cos(theta2)^2*cos(theta3)^3 + 4.4879133819528e-27*cos(theta2)^2*cos(theta3)^2*cos(theta2 + theta3)^2 - 9.109239393681e-26*cos(theta2)^2*cos(theta3)^2*cos(theta2 + theta3) - 9.53611925396146e-26*cos(theta2)^2*cos(theta3)^2 + 7.479855636588e-27*cos(theta2)^2*cos(theta3)*cos(theta2 + theta3)^3 + 3.60460634296872e-26*cos(theta2)^2*cos(theta3)*cos(theta2 + theta3)^2 - 1.461131130816e-25*cos(theta2)^2*cos(theta3)*cos(theta2 + theta3) + 2.70058771324239e-25*cos(theta2)^2*cos(theta3) - 2.19172163675013e-26*cos(theta2)^2*cos(theta2 + theta3)^3 - 6.85701365403521e-26*cos(theta2)^2*cos(theta2 + theta3)^2 + 2.23027355982263e-25*cos(theta2)^2*cos(theta2 + theta3) + 9.96245579331129e-25*cos(theta2)^2 + 2.96163711995896e-59*cos(theta2)*cos(theta3)^4*cos(theta2 + theta3) - 8.74290613287526e-43*cos(theta2)*cos(theta3)^4 + 4.10402299649086e-43*cos(theta2)*cos(theta3)^3*cos(theta2 + theta3)^2 - 1.33515423113096e-26*cos(theta2)*cos(theta3)^3*cos(theta2 + theta3) + 5.1619023230859e-26*cos(theta2)*cos(theta3)^3 + 4.26351771285517e-28*cos(theta2)*cos(theta3)^2*cos(theta2 + theta3)^3 - 1.73075548479939e-26*cos(theta2)*cos(theta3)^2*cos(theta2 + theta3)^2 - 1.56716149779946e-25*cos(theta2)*cos(theta3)^2*cos(theta2 + theta3) + 1.63965865166209e-25*cos(theta2)*cos(theta3)^2 + 4.7372419031724e-28*cos(theta2)*cos(theta3)*cos(theta2 + theta3)^4 + 1.7079673196794e-27*cos(theta2)*cos(theta3)*cos(theta2 + theta3)^3 - 3.65381713457648e-27*cos(theta2)*cos(theta3)*cos(theta2 + theta3)^2 - 2.53533483105536e-25*cos(theta2)*cos(theta3)*cos(theta2 + theta3) - 2.14123355624304e-25*cos(theta2)*cos(theta3) - 3.9892563395136e-27*cos(theta2)*cos(theta2 + theta3)^4 - 2.30260834997197e-26*cos(theta2)*cos(theta2 + theta3)^3 + 1.18952308838765e-25*cos(theta2)*cos(theta2 + theta3)^2 + 1.7759932921543e-25*cos(theta2)*cos(theta2 + theta3) - 6.80154699948721e-25*cos(theta2) + 4.50168842233762e-60*cos(theta3)^4*cos(theta2 + theta3)^2 - 4.31899562964038e-43*cos(theta3)^4*cos(theta2 + theta3) + 8.82685297247688e-27*cos(theta3)^4 + 6.36542342312871e-45*cos(theta3)^3*cos(theta2 + theta3)^3 - 4.22798839858138e-28*cos(theta3)^3*cos(theta2 + theta3)^2 + 9.80761441386321e-27*cos(theta3)^3*cos(theta2 + theta3) + 1.12952842224549e-25*cos(theta3)^3 + 2.81580587519136e-44*cos(theta3)^2*cos(theta2 + theta3)^4 - 4.69776488731264e-28*cos(theta3)^2*cos(theta2 + theta3)^3 + 6.79873263328515e-28*cos(theta3)^2*cos(theta2 + theta3)^2 + 3.11535143815798e-26*cos(theta3)^2*cos(theta2 + theta3) + 2.33113157173779e-25*cos(theta3)^2 + 2.11185440639352e-44*cos(theta3)*cos(theta2 + theta3)^5 - 2.27387611352275e-28*cos(theta3)*cos(theta2 + theta3)^4 + 5.27468338224576e-27*cos(theta3)*cos(theta2 + theta3)^3 + 6.2501579303346e-26*cos(theta3)*cos(theta2 + theta3)^2 - 4.06834375686178e-26*cos(theta3)*cos(theta2 + theta3) - 4.68545123301835e-25*cos(theta3) - 2.52652901502528e-28*cos(theta2 + theta3)^5 - 2.18747793247337e-27*cos(theta2 + theta3)^4 + 1.87035337358171e-26*cos(theta2 + theta3)^3 + 1.61935869578611e-25*cos(theta2 + theta3)^2 - 1.29229392990257e-25*cos(theta2 + theta3) - 1.11887274482889e-24) + (-9.0e-5*(D_THETA_1^2)*sin(theta2) - 1.71e-5*(D_THETA_1^2)*sin(theta2 + theta3) + 3.078e-5*D_THETA_1*D_THETA_3*sin(theta3) + 3.078e-5*D_THETA_2*D_THETA_3*sin(theta3) + 1.539e-5*(D_THETA_3^2)*sin(theta3) - 0.005*F3 + 0.005*F4 - 0.008829*cos(theta1 + theta2) - 0.00167751*cos(theta1 + theta2 + theta3))*(2.98433646e-21*cos(theta2)^4 - 3.453303618e-22*cos(theta2)^3*cos(theta3)^2 - 7.67400804e-22*cos(theta2)^3*cos(theta3)*cos(theta2 + theta3) + 5.1032153466e-22*cos(theta2)^3*cos(theta3) - 4.2633378e-22*cos(theta2)^3*cos(theta2 + theta3)^2 + 1.7010717822e-21*cos(theta2)^3*cos(theta2 + theta3) + 9.6300917674605e-21*cos(theta2)^3 - 5.90514918678e-23*cos(theta2)^2*cos(theta3)^3 - 3.2806384371e-22*cos(theta2)^2*cos(theta3)^2*cos(theta2 + theta3) - 5.68077717920715e-22*cos(theta2)^2*cos(theta3)^2 - 5.1032153466e-22*cos(theta2)^2*cos(theta3)*cos(theta2 + theta3)^2 - 1.0684727455419e-21*cos(theta2)^2*cos(theta3)*cos(theta2 + theta3) - 1.4419418473782e-21*cos(theta2)^2*cos(theta3) - 2.430102546e-22*cos(theta2)^2*cos(theta2 + theta3)^3 - 3.781268773335e-22*cos(theta2)^2*cos(theta2 + theta3)^2 + 4.55638272123699e-21*cos(theta2)^2*cos(theta2 + theta3) + 6.21324685608166e-22*cos(theta2)^2 - 2.2439566909764e-23*cos(theta2)*cos(theta3)^3*cos(theta2 + theta3) + 2.602639826766e-22*cos(theta2)*cos(theta3)^3 - 8.726498242686e-23*cos(theta2)*cos(theta3)^2*cos(theta2 + theta3)^2 + 3.62494873138128e-22*cos(theta2)*cos(theta3)^2*cos(theta2 + theta3) + 4.42106317941435e-22*cos(theta2)*cos(theta3)^2 - 1.108126760976e-22*cos(theta2)*cos(theta3)*cos(theta2 + theta3)^3 - 1.399739066496e-22*cos(theta2)*cos(theta3)*cos(theta2 + theta3)^2 + 1.71656168216198e-21*cos(theta2)*cos(theta3)*cos(theta2 + theta3) - 8.47958560841253e-21*cos(theta2)*cos(theta3) - 4.6171948374e-23*cos(theta2)*cos(theta2 + theta3)^4 - 2.4603603228243e-22*cos(theta2)*cos(theta2 + theta3)^3 + 1.70912680169958e-21*cos(theta2)*cos(theta2 + theta3)^2 + 1.59355498757162e-21*cos(theta2)*cos(theta2 + theta3) - 2.3054377274039e-20*cos(theta2) - 1.50760028442521e-39*cos(theta3)^4*cos(theta2 + theta3) + 4.45051410376986e-23*cos(theta3)^4 - 2.13175885642759e-24*cos(theta3)^3*cos(theta2 + theta3)^2 + 1.48350470125662e-22*cos(theta3)^3*cos(theta2 + theta3) + 5.69510128863274e-22*cos(theta3)^3 - 7.10586285475861e-24*cos(theta3)^2*cos(theta2 + theta3)^3 + 1.44326250078242e-22*cos(theta3)^2*cos(theta2 + theta3)^2 + 1.42265460724101e-21*cos(theta3)^2*cos(theta2 + theta3) + 7.51574648331947e-22*cos(theta3)^2 - 7.89540317195401e-24*cos(theta3)*cos(theta2 + theta3)^4 + 1.54771192568715e-23*cos(theta3)*cos(theta2 + theta3)^3 + 1.08129974482369e-21*cos(theta3)*cos(theta2 + theta3)^2 + 2.34616558116548e-21*cos(theta3)*cos(theta2 + theta3) - 7.78538835053741e-21*cos(theta3) - 2.92422339702e-24*cos(theta2 + theta3)^5 - 2.53180316258492e-23*cos(theta2 + theta3)^4 + 2.26301475519277e-22*cos(theta2 + theta3)^3 + 1.95932633601529e-21*cos(theta2 + theta3)^2 - 2.14728733839631e-21*cos(theta2 + theta3) - 1.85912912121233e-20)/(-1.342951407e-25*cos(theta2)^5 + 9.36001952972197e-42*cos(theta2)^4*cos(theta3)^2 + 6.906607236e-26*cos(theta2)^4*cos(theta3)*cos(theta2 + theta3) - 2.29644690597e-26*cos(theta2)^4*cos(theta3) - 7.65482301990001e-26*cos(theta2)^4*cos(theta2 + theta3) - 2.20919112524723e-25*cos(theta2)^4 + 1.16004946477779e-42*cos(theta2)^3*cos(theta3)^3 + 1.181029837356e-26*cos(theta2)^3*cos(theta3)^2*cos(theta2 + theta3) - 6.8490521757e-26*cos(theta2)^3*cos(theta3)^2 + 3.93676612452e-26*cos(theta2)^3*cos(theta3)*cos(theta2 + theta3)^2 + 1.04889045341457e-25*cos(theta2)^3*cos(theta3)*cos(theta2 + theta3) + 1.012137710409e-25*cos(theta2)^3*cos(theta3) - 5.137940232981e-26*cos(theta2)^3*cos(theta2 + theta3)^2 - 8.39492627593946e-26*cos(theta2)^3*cos(theta2 + theta3) + 6.05610527396333e-25*cos(theta2)^3 + 6.17146315261784e-43*cos(theta2)^2*cos(theta3)^3*cos(theta2 + theta3) - 1.1711879220447e-26*cos(theta2)^2*cos(theta3)^3 + 4.4879133819528e-27*cos(theta2)^2*cos(theta3)^2*cos(theta2 + theta3)^2 - 9.109239393681e-26*cos(theta2)^2*cos(theta3)^2*cos(theta2 + theta3) - 9.53611925396146e-26*cos(theta2)^2*cos(theta3)^2 + 7.479855636588e-27*cos(theta2)^2*cos(theta3)*cos(theta2 + theta3)^3 + 3.60460634296872e-26*cos(theta2)^2*cos(theta3)*cos(theta2 + theta3)^2 - 1.461131130816e-25*cos(theta2)^2*cos(theta3)*cos(theta2 + theta3) + 2.70058771324239e-25*cos(theta2)^2*cos(theta3) - 2.19172163675013e-26*cos(theta2)^2*cos(theta2 + theta3)^3 - 6.85701365403521e-26*cos(theta2)^2*cos(theta2 + theta3)^2 + 2.23027355982263e-25*cos(theta2)^2*cos(theta2 + theta3) + 9.96245579331129e-25*cos(theta2)^2 + 2.96163711995896e-59*cos(theta2)*cos(theta3)^4*cos(theta2 + theta3) - 8.74290613287526e-43*cos(theta2)*cos(theta3)^4 + 4.10402299649086e-43*cos(theta2)*cos(theta3)^3*cos(theta2 + theta3)^2 - 1.33515423113096e-26*cos(theta2)*cos(theta3)^3*cos(theta2 + theta3) + 5.1619023230859e-26*cos(theta2)*cos(theta3)^3 + 4.26351771285517e-28*cos(theta2)*cos(theta3)^2*cos(theta2 + theta3)^3 - 1.73075548479939e-26*cos(theta2)*cos(theta3)^2*cos(theta2 + theta3)^2 - 1.56716149779946e-25*cos(theta2)*cos(theta3)^2*cos(theta2 + theta3) + 1.63965865166209e-25*cos(theta2)*cos(theta3)^2 + 4.7372419031724e-28*cos(theta2)*cos(theta3)*cos(theta2 + theta3)^4 + 1.7079673196794e-27*cos(theta2)*cos(theta3)*cos(theta2 + theta3)^3 - 3.65381713457648e-27*cos(theta2)*cos(theta3)*cos(theta2 + theta3)^2 - 2.53533483105536e-25*cos(theta2)*cos(theta3)*cos(theta2 + theta3) - 2.14123355624304e-25*cos(theta2)*cos(theta3) - 3.9892563395136e-27*cos(theta2)*cos(theta2 + theta3)^4 - 2.30260834997197e-26*cos(theta2)*cos(theta2 + theta3)^3 + 1.18952308838765e-25*cos(theta2)*cos(theta2 + theta3)^2 + 1.7759932921543e-25*cos(theta2)*cos(theta2 + theta3) - 6.80154699948721e-25*cos(theta2) + 4.50168842233762e-60*cos(theta3)^4*cos(theta2 + theta3)^2 - 4.31899562964038e-43*cos(theta3)^4*cos(theta2 + theta3) + 8.82685297247688e-27*cos(theta3)^4 + 6.36542342312871e-45*cos(theta3)^3*cos(theta2 + theta3)^3 - 4.22798839858138e-28*cos(theta3)^3*cos(theta2 + theta3)^2 + 9.80761441386321e-27*cos(theta3)^3*cos(theta2 + theta3) + 1.12952842224549e-25*cos(theta3)^3 + 2.81580587519136e-44*cos(theta3)^2*cos(theta2 + theta3)^4 - 4.69776488731264e-28*cos(theta3)^2*cos(theta2 + theta3)^3 + 6.79873263328515e-28*cos(theta3)^2*cos(theta2 + theta3)^2 + 3.11535143815798e-26*cos(theta3)^2*cos(theta2 + theta3) + 2.33113157173779e-25*cos(theta3)^2 + 2.11185440639352e-44*cos(theta3)*cos(theta2 + theta3)^5 - 2.27387611352275e-28*cos(theta3)*cos(theta2 + theta3)^4 + 5.27468338224576e-27*cos(theta3)*cos(theta2 + theta3)^3 + 6.2501579303346e-26*cos(theta3)*cos(theta2 + theta3)^2 - 4.06834375686178e-26*cos(theta3)*cos(theta2 + theta3) - 4.68545123301835e-25*cos(theta3) - 2.52652901502528e-28*cos(theta2 + theta3)^5 - 2.18747793247337e-27*cos(theta2 + theta3)^4 + 1.87035337358171e-26*cos(theta2 + theta3)^3 + 1.61935869578611e-25*cos(theta2 + theta3)^2 - 1.29229392990257e-25*cos(theta2 + theta3) - 1.11887274482889e-24) + (0.00018*D_THETA_1*D_THETA_2*sin(theta2) + 3.42e-5*D_THETA_1*D_THETA_2*sin(theta2 + theta3) + 3.078e-5*D_THETA_1*D_THETA_3*sin(theta3) + 3.42e-5*D_THETA_1*D_THETA_3*sin(theta2 + theta3) + 9.0e-5*(D_THETA_2^2)*sin(theta2) + 1.71e-5*(D_THETA_2^2)*sin(theta2 + theta3) + 3.078e-5*D_THETA_2*D_THETA_3*sin(theta3) + 3.42e-5*D_THETA_2*D_THETA_3*sin(theta2 + theta3) + 1.539e-5*(D_THETA_3^2)*sin(theta3) + 1.71e-5*(D_THETA_3^2)*sin(theta2 + theta3) - 0.005*F1 + 0.005*F2 - 0.018639*cos(theta1) - 0.008829*cos(theta1 + theta2) - 0.00167751*cos(theta1 + theta2 + theta3))*(-1.49216823e-21*cos(theta2)^4 + 3.453303618e-22*cos(theta2)^3*cos(theta3)^2 + 3.83700402e-22*cos(theta2)^3*cos(theta3)*cos(theta2 + theta3) - 2.5516076733e-22*cos(theta2)^3*cos(theta3) + 3.88498218603244e-38*cos(theta2)^3*cos(theta2 + theta3)^2 - 8.50535891100001e-22*cos(theta2)^3*cos(theta2 + theta3) - 3.88713830663025e-21*cos(theta2)^3 + 5.90514918678e-23*cos(theta2)^2*cos(theta3)^3 + 2.62451074968e-22*cos(theta2)^2*cos(theta3)^2*cos(theta2 + theta3) + 5.68077717920715e-22*cos(theta2)^2*cos(theta3)^2 + 2.1870922914e-22*cos(theta2)^2*cos(theta3)*cos(theta2 + theta3)^2 + 5.3423637277095e-22*cos(theta2)^2*cos(theta3)*cos(theta2 + theta3) + 8.796431193732e-22*cos(theta2)^2*cos(theta3) + 7.38146615346164e-39*cos(theta2)^2*cos(theta2 + theta3)^3 - 1.61601819309e-22*cos(theta2)^2*cos(theta2 + theta3)^2 - 1.7492840416715e-21*cos(theta2)^2*cos(theta2 + theta3) + 1.21577053756221e-21*cos(theta2)^2 + 2.2439566909764e-23*cos(theta2)*cos(theta3)^3*cos(theta2 + theta3) - 2.602639826766e-22*cos(theta2)*cos(theta3)^3 + 6.23321303049e-23*cos(theta2)*cos(theta3)^2*cos(theta2 + theta3)^2 - 7.33126701641283e-23*cos(theta2)*cos(theta3)^2*cos(theta2 + theta3) - 6.34412482919145e-22*cos(theta2)*cos(theta3)^2 + 4.15547535366e-23*cos(theta2)*cos(theta3)*cos(theta2 + theta3)^3 + 2.306437327548e-22*cos(theta2)*cos(theta3)*cos(theta2 + theta3)^2 - 7.97985406721034e-22*cos(theta2)*cos(theta3)*cos(theta2 + theta3) + 3.54045979359856e-21*cos(theta2)*cos(theta3) - 1.023478188957e-23*cos(theta2)*cos(theta2 + theta3)^3 - 2.43750857227112e-22*cos(theta2)*cos(theta2 + theta3)^2 - 2.16732999246618e-22*cos(theta2)*cos(theta2 + theta3) + 9.30578391165787e-21*cos(theta2) + 1.50760028442521e-39*cos(theta3)^4*cos(theta2 + theta3) - 4.45051410376986e-23*cos(theta3)^4 + 2.13175885642758e-24*cos(theta3)^3*cos(theta2 + theta3)^2 - 9.89003134171079e-23*cos(theta3)^3*cos(theta2 + theta3) - 5.69510128863274e-22*cos(theta3)^3 + 4.7372419031724e-24*cos(theta3)^2*cos(theta2 + theta3)^3 - 3.44370129481222e-23*cos(theta3)^2*cos(theta2 + theta3)^2 - 7.89865575170707e-22*cos(theta3)^2*cos(theta2 + theta3) - 1.17536045633838e-21*cos(theta3)^2 + 2.631801057318e-24*cos(theta3)*cos(theta2 + theta3)^4 + 2.27862284632642e-23*cos(theta3)*cos(theta2 + theta3)^3 - 1.83372343886369e-22*cos(theta3)*cos(theta2 + theta3)^2 - 1.3059560625982e-21*cos(theta3)*cos(theta2 + theta3) + 2.3624123863958e-21*cos(theta3) - 9.82539061398724e-24*cos(theta2 + theta3)^3 - 8.5068586262853e-23*cos(theta2 + theta3)^2 + 6.51576771379448e-22*cos(theta2 + theta3) + 5.64137518401119e-21)/(-1.342951407e-25*cos(theta2)^5 + 9.36001952972197e-42*cos(theta2)^4*cos(theta3)^2 + 6.906607236e-26*cos(theta2)^4*cos(theta3)*cos(theta2 + theta3) - 2.29644690597e-26*cos(theta2)^4*cos(theta3) - 7.65482301990001e-26*cos(theta2)^4*cos(theta2 + theta3) - 2.20919112524723e-25*cos(theta2)^4 + 1.16004946477779e-42*cos(theta2)^3*cos(theta3)^3 + 1.181029837356e-26*cos(theta2)^3*cos(theta3)^2*cos(theta2 + theta3) - 6.8490521757e-26*cos(theta2)^3*cos(theta3)^2 + 3.93676612452e-26*cos(theta2)^3*cos(theta3)*cos(theta2 + theta3)^2 + 1.04889045341457e-25*cos(theta2)^3*cos(theta3)*cos(theta2 + theta3) + 1.012137710409e-25*cos(theta2)^3*cos(theta3) - 5.137940232981e-26*cos(theta2)^3*cos(theta2 + theta3)^2 - 8.39492627593946e-26*cos(theta2)^3*cos(theta2 + theta3) + 6.05610527396333e-25*cos(theta2)^3 + 6.17146315261784e-43*cos(theta2)^2*cos(theta3)^3*cos(theta2 + theta3) - 1.1711879220447e-26*cos(theta2)^2*cos(theta3)^3 + 4.4879133819528e-27*cos(theta2)^2*cos(theta3)^2*cos(theta2 + theta3)^2 - 9.109239393681e-26*cos(theta2)^2*cos(theta3)^2*cos(theta2 + theta3) - 9.53611925396146e-26*cos(theta2)^2*cos(theta3)^2 + 7.479855636588e-27*cos(theta2)^2*cos(theta3)*cos(theta2 + theta3)^3 + 3.60460634296872e-26*cos(theta2)^2*cos(theta3)*cos(theta2 + theta3)^2 - 1.461131130816e-25*cos(theta2)^2*cos(theta3)*cos(theta2 + theta3) + 2.70058771324239e-25*cos(theta2)^2*cos(theta3) - 2.19172163675013e-26*cos(theta2)^2*cos(theta2 + theta3)^3 - 6.85701365403521e-26*cos(theta2)^2*cos(theta2 + theta3)^2 + 2.23027355982263e-25*cos(theta2)^2*cos(theta2 + theta3) + 9.96245579331129e-25*cos(theta2)^2 + 2.96163711995896e-59*cos(theta2)*cos(theta3)^4*cos(theta2 + theta3) - 8.74290613287526e-43*cos(theta2)*cos(theta3)^4 + 4.10402299649086e-43*cos(theta2)*cos(theta3)^3*cos(theta2 + theta3)^2 - 1.33515423113096e-26*cos(theta2)*cos(theta3)^3*cos(theta2 + theta3) + 5.1619023230859e-26*cos(theta2)*cos(theta3)^3 + 4.26351771285517e-28*cos(theta2)*cos(theta3)^2*cos(theta2 + theta3)^3 - 1.73075548479939e-26*cos(theta2)*cos(theta3)^2*cos(theta2 + theta3)^2 - 1.56716149779946e-25*cos(theta2)*cos(theta3)^2*cos(theta2 + theta3) + 1.63965865166209e-25*cos(theta2)*cos(theta3)^2 + 4.7372419031724e-28*cos(theta2)*cos(theta3)*cos(theta2 + theta3)^4 + 1.7079673196794e-27*cos(theta2)*cos(theta3)*cos(theta2 + theta3)^3 - 3.65381713457648e-27*cos(theta2)*cos(theta3)*cos(theta2 + theta3)^2 - 2.53533483105536e-25*cos(theta2)*cos(theta3)*cos(theta2 + theta3) - 2.14123355624304e-25*cos(theta2)*cos(theta3) - 3.9892563395136e-27*cos(theta2)*cos(theta2 + theta3)^4 - 2.30260834997197e-26*cos(theta2)*cos(theta2 + theta3)^3 + 1.18952308838765e-25*cos(theta2)*cos(theta2 + theta3)^2 + 1.7759932921543e-25*cos(theta2)*cos(theta2 + theta3) - 6.80154699948721e-25*cos(theta2) + 4.50168842233762e-60*cos(theta3)^4*cos(theta2 + theta3)^2 - 4.31899562964038e-43*cos(theta3)^4*cos(theta2 + theta3) + 8.82685297247688e-27*cos(theta3)^4 + 6.36542342312871e-45*cos(theta3)^3*cos(theta2 + theta3)^3 - 4.22798839858138e-28*cos(theta3)^3*cos(theta2 + theta3)^2 + 9.80761441386321e-27*cos(theta3)^3*cos(theta2 + theta3) + 1.12952842224549e-25*cos(theta3)^3 + 2.81580587519136e-44*cos(theta3)^2*cos(theta2 + theta3)^4 - 4.69776488731264e-28*cos(theta3)^2*cos(theta2 + theta3)^3 + 6.79873263328515e-28*cos(theta3)^2*cos(theta2 + theta3)^2 + 3.11535143815798e-26*cos(theta3)^2*cos(theta2 + theta3) + 2.33113157173779e-25*cos(theta3)^2 + 2.11185440639352e-44*cos(theta3)*cos(theta2 + theta3)^5 - 2.27387611352275e-28*cos(theta3)*cos(theta2 + theta3)^4 + 5.27468338224576e-27*cos(theta3)*cos(theta2 + theta3)^3 + 6.2501579303346e-26*cos(theta3)*cos(theta2 + theta3)^2 - 4.06834375686178e-26*cos(theta3)*cos(theta2 + theta3) - 4.68545123301835e-25*cos(theta3) - 2.52652901502528e-28*cos(theta2 + theta3)^5 - 2.18747793247337e-27*cos(theta2 + theta3)^4 + 1.87035337358171e-26*cos(theta2 + theta3)^3 + 1.61935869578611e-25*cos(theta2 + theta3)^2 - 1.29229392990257e-25*cos(theta2 + theta3) - 1.11887274482889e-24) ;\n",
            "D2_THETA_3 =  (-1.539e-5*(D_THETA_1^2)*sin(theta3) - 1.71e-5*(D_THETA_1^2)*sin(theta2 + theta3) - 3.078e-5*D_THETA_1*D_THETA_2*sin(theta3) - 1.539e-5*(D_THETA_2^2)*sin(theta3) - 0.005*F5 + 0.005*F6 - 0.00167751*cos(theta1 + theta2 + theta3))*(-1.458e-12*cos(theta2)^3 - 2.49317999999999e-13*cos(theta2)^2*cos(theta3) - 8.3106e-13*cos(theta2)^2*cos(theta2 + theta3) - 2.39844915e-12*cos(theta2)^2 - 9.47408400000007e-14*cos(theta2)*cos(theta3)*cos(theta2 + theta3) + 1.098846e-12*cos(theta2)*cos(theta3) - 1.579014e-13*cos(theta2)*cos(theta2 + theta3)^2 - 9.11410677e-13*cos(theta2)*cos(theta2 + theta3) + 3.49044255e-12*cos(theta2) - 6.36515481359555e-30*cos(theta3)^2*cos(theta2 + theta3) + 1.87902665999999e-13*cos(theta3)^2 - 9.00037980000001e-15*cos(theta3)*cos(theta2 + theta3)^2 + 2.08780739999999e-13*cos(theta3)*cos(theta2 + theta3) + 2.4044968521e-12*cos(theta3) - 1.0000422e-14*cos(theta2 + theta3)^3 - 8.6584014314999e-14*cos(theta2 + theta3)^2 + 6.631840845e-13*cos(theta2 + theta3) + 5.74187171959625e-12)/(-1.6579647e-17*cos(theta2)^3 + 1.15555796663234e-33*cos(theta2)^2*cos(theta3)^2 + 8.5266756e-18*cos(theta2)^2*cos(theta3)*cos(theta2 + theta3) - 2.835119637e-18*cos(theta2)^2*cos(theta3) - 3.15013293e-18*cos(theta2)^2*cos(theta2 + theta3) - 2.7273964509225e-17*cos(theta2)^2 + 1.432159833059e-34*cos(theta2)*cos(theta3)^3 + 1.4580615276e-18*cos(theta2)*cos(theta3)^2*cos(theta2 + theta3) - 8.45561997e-18*cos(theta2)*cos(theta3)^2 + 1.620068364e-18*cos(theta2)*cos(theta3)*cos(theta2 + theta3)^2 + 1.402661031903e-17*cos(theta2)*cos(theta3)*cos(theta2 + theta3) + 3.08148791101958e-33*cos(theta2)*cos(theta3) - 4.54756032e-18*cos(theta2)*cos(theta2 + theta3)^2 + 3.507516432e-17*cos(theta2) + 2.17688294624968e-35*cos(theta3)^3*cos(theta2 + theta3) - 1.44591101487e-18*cos(theta3)^3 + 9.62964972193618e-35*cos(theta3)^2*cos(theta2 + theta3)^2 - 1.6065677943e-18*cos(theta3)^2*cos(theta2 + theta3) - 1.39097218997047e-17*cos(theta3)^2 + 7.22223729145213e-35*cos(theta3)*cos(theta2 + theta3)^3 - 7.7763281472e-19*cos(theta3)*cos(theta2 + theta3)^2 + 1.54074395550979e-33*cos(theta3)*cos(theta2 + theta3) + 5.99785309872e-18*cos(theta3) - 8.640364608e-19*cos(theta2 + theta3)^3 - 7.480858836816e-18*cos(theta2 + theta3)^2 + 6.6642812208e-18*cos(theta2 + theta3) + 5.7699587139516e-17) + (-9.0e-5*(D_THETA_1^2)*sin(theta2) - 1.71e-5*(D_THETA_1^2)*sin(theta2 + theta3) + 3.078e-5*D_THETA_1*D_THETA_3*sin(theta3) + 3.078e-5*D_THETA_2*D_THETA_3*sin(theta3) + 1.539e-5*(D_THETA_3^2)*sin(theta3) - 0.005*F3 + 0.005*F4 - 0.008829*cos(theta1 + theta2) - 0.00167751*cos(theta1 + theta2 + theta3))*(-2.49317999999999e-13*cos(theta2)^2*cos(theta3) + 2.7702e-13*cos(theta2)^2*cos(theta2 + theta3) - 1.842183e-13*cos(theta2)^2 - 4.26333779999993e-14*cos(theta2)*cos(theta3)^2 + 4.73704200000003e-14*cos(theta2)*cos(theta3)*cos(theta2 + theta3) - 9.91059133949999e-13*cos(theta2)*cos(theta3) + 1.052676e-13*cos(theta2)*cos(theta2 + theta3)^2 + 6.866430615e-13*cos(theta2)*cos(theta2 + theta3) - 7.09006600102498e-13*cos(theta2) + 8.10034182e-15*cos(theta3)^2*cos(theta2 + theta3) - 9.39513330000007e-14*cos(theta3)^2 + 1.80007596e-14*cos(theta3)*cos(theta2 + theta3)^2 + 1.90108460835e-14*cos(theta3)*cos(theta2 + theta3) - 9.73235184075e-13*cos(theta3) + 1.0000422e-14*cos(theta2 + theta3)^3 + 1.37112462315e-13*cos(theta2 + theta3)^2 + 3.60344240460001e-13*cos(theta2 + theta3) - 6.67819295596249e-13)/(-1.6579647e-17*cos(theta2)^3 + 1.15555796663234e-33*cos(theta2)^2*cos(theta3)^2 + 8.5266756e-18*cos(theta2)^2*cos(theta3)*cos(theta2 + theta3) - 2.835119637e-18*cos(theta2)^2*cos(theta3) - 3.15013293e-18*cos(theta2)^2*cos(theta2 + theta3) - 2.7273964509225e-17*cos(theta2)^2 + 1.432159833059e-34*cos(theta2)*cos(theta3)^3 + 1.4580615276e-18*cos(theta2)*cos(theta3)^2*cos(theta2 + theta3) - 8.45561997e-18*cos(theta2)*cos(theta3)^2 + 1.620068364e-18*cos(theta2)*cos(theta3)*cos(theta2 + theta3)^2 + 1.402661031903e-17*cos(theta2)*cos(theta3)*cos(theta2 + theta3) + 3.08148791101958e-33*cos(theta2)*cos(theta3) - 4.54756032e-18*cos(theta2)*cos(theta2 + theta3)^2 + 3.507516432e-17*cos(theta2) + 2.17688294624968e-35*cos(theta3)^3*cos(theta2 + theta3) - 1.44591101487e-18*cos(theta3)^3 + 9.62964972193618e-35*cos(theta3)^2*cos(theta2 + theta3)^2 - 1.6065677943e-18*cos(theta3)^2*cos(theta2 + theta3) - 1.39097218997047e-17*cos(theta3)^2 + 7.22223729145213e-35*cos(theta3)*cos(theta2 + theta3)^3 - 7.7763281472e-19*cos(theta3)*cos(theta2 + theta3)^2 + 1.54074395550979e-33*cos(theta3)*cos(theta2 + theta3) + 5.99785309872e-18*cos(theta3) - 8.640364608e-19*cos(theta2 + theta3)^3 - 7.480858836816e-18*cos(theta2 + theta3)^2 + 6.6642812208e-18*cos(theta2 + theta3) + 5.7699587139516e-17) + (2.49317999999999e-13*cos(theta2)^2*cos(theta3) - 2.52435489670724e-29*cos(theta2)^2*cos(theta2 + theta3) + 1.842183e-13*cos(theta2)^2 + 4.26333779999993e-14*cos(theta2)*cos(theta3)^2 + 6.31088724176809e-30*cos(theta2)*cos(theta3)*cos(theta2 + theta3) + 4.4163613395e-13*cos(theta2)*cos(theta3) - 2.30937723e-13*cos(theta2)*cos(theta2 + theta3) + 3.030440501025e-13*cos(theta2) - 8.10034182e-15*cos(theta3)^2*cos(theta2 + theta3) - 9.0003798e-15*cos(theta3)*cos(theta2 + theta3)^2 - 1.234012160835e-13*cos(theta3)*cos(theta2 + theta3) - 5.05284480000003e-14*cos(theta2 + theta3)^2 - 4.37477124959999e-13*cos(theta2 + theta3) + 2.52435489670724e-29)*(0.00018*D_THETA_1*D_THETA_2*sin(theta2) + 3.42e-5*D_THETA_1*D_THETA_2*sin(theta2 + theta3) + 3.078e-5*D_THETA_1*D_THETA_3*sin(theta3) + 3.42e-5*D_THETA_1*D_THETA_3*sin(theta2 + theta3) + 9.0e-5*(D_THETA_2^2)*sin(theta2) + 1.71e-5*(D_THETA_2^2)*sin(theta2 + theta3) + 3.078e-5*D_THETA_2*D_THETA_3*sin(theta3) + 3.42e-5*D_THETA_2*D_THETA_3*sin(theta2 + theta3) + 1.539e-5*(D_THETA_3^2)*sin(theta3) + 1.71e-5*(D_THETA_3^2)*sin(theta2 + theta3) - 0.005*F1 + 0.005*F2 - 0.018639*cos(theta1) - 0.008829*cos(theta1 + theta2) - 0.00167751*cos(theta1 + theta2 + theta3))/(-1.6579647e-17*cos(theta2)^3 + 1.15555796663234e-33*cos(theta2)^2*cos(theta3)^2 + 8.5266756e-18*cos(theta2)^2*cos(theta3)*cos(theta2 + theta3) - 2.835119637e-18*cos(theta2)^2*cos(theta3) - 3.15013293e-18*cos(theta2)^2*cos(theta2 + theta3) - 2.7273964509225e-17*cos(theta2)^2 + 1.432159833059e-34*cos(theta2)*cos(theta3)^3 + 1.4580615276e-18*cos(theta2)*cos(theta3)^2*cos(theta2 + theta3) - 8.45561997e-18*cos(theta2)*cos(theta3)^2 + 1.620068364e-18*cos(theta2)*cos(theta3)*cos(theta2 + theta3)^2 + 1.402661031903e-17*cos(theta2)*cos(theta3)*cos(theta2 + theta3) + 3.08148791101958e-33*cos(theta2)*cos(theta3) - 4.54756032e-18*cos(theta2)*cos(theta2 + theta3)^2 + 3.507516432e-17*cos(theta2) + 2.17688294624968e-35*cos(theta3)^3*cos(theta2 + theta3) - 1.44591101487e-18*cos(theta3)^3 + 9.62964972193618e-35*cos(theta3)^2*cos(theta2 + theta3)^2 - 1.6065677943e-18*cos(theta3)^2*cos(theta2 + theta3) - 1.39097218997047e-17*cos(theta3)^2 + 7.22223729145213e-35*cos(theta3)*cos(theta2 + theta3)^3 - 7.7763281472e-19*cos(theta3)*cos(theta2 + theta3)^2 + 1.54074395550979e-33*cos(theta3)*cos(theta2 + theta3) + 5.99785309872e-18*cos(theta3) - 8.640364608e-19*cos(theta2 + theta3)^3 - 7.480858836816e-18*cos(theta2 + theta3)^2 + 6.6642812208e-18*cos(theta2 + theta3) + 5.7699587139516e-17) ;\n",
            "\n"
          ]
        }
      ]
    },
    {
      "cell_type": "code",
      "source": [
        "# FEEDBACK LINEARIZATION\n",
        "\n",
        "# Define the symbolic variables for the desired angular accelerations (d2q_des1, d2q_des2, d2q_des3)\n",
        "d2q_des1 = symbols('d2q_des1')  # Desired angular acceleration for joint 1\n",
        "d2q_des2 = symbols('d2q_des2')  # Desired angular acceleration for joint 2\n",
        "d2q_des3 = symbols('d2q_des3')  # Desired angular acceleration for joint 3\n",
        "\n",
        "# Create a matrix for the desired angular accelerations\n",
        "D2Q_DES = Matrix([[d2q_des1], [d2q_des2], [d2q_des3]])\n",
        "\n",
        "# Feedback linearization equation: T = M * D2Q_DES + V + G\n",
        "# M is the inertia matrix, D2Q_DES is the desired angular accelerations,\n",
        "# V is the Coriolis/centrifugal forces, and G is the gravitational forces\n",
        "T = M*D2Q_DES + V + G  # Calculate the torque based on the feedback linearization\n"
      ],
      "metadata": {
        "id": "wplQfTB7Rd1g"
      },
      "execution_count": null,
      "outputs": []
    },
    {
      "cell_type": "code",
      "source": [
        "# MAKING FEEDBACK LINEARIZATION CALCULATIONS SUITABLE FOR MATLAB\n",
        "\n",
        "# Extract the individual torque components from the feedback linearization equation (T)\n",
        "u1 = T[0]  # Extract the torque for the first joint\n",
        "u2 = T[1]  # Extract the torque for the second joint\n",
        "u3 = T[2]  # Extract the torque for the third joint\n",
        "\n",
        "# Substitute the symbolic variables with MATLAB-compatible expressions using the 'yerine_koymalar' dictionary\n",
        "u1_s = u1.subs(yerine_koymalar)  # Substitute into u1 (torque for the first joint)\n",
        "u2_s = u2.subs(yerine_koymalar)  # Substitute into u2 (torque for the second joint)\n",
        "u3_s = u3.subs(yerine_koymalar)  # Substitute into u3 (torque for the third joint)\n",
        "\n",
        "# Replace '**' with '^' to make the syntax compatible with MATLAB's exponentiation operator\n",
        "u1_s = str(u1_s).replace(\"**\",\"^\")  # Replace '**' with '^' in u1\n",
        "u1_s = u1_s.replace(\"D_THETA_1^2\",\"(D_THETA_1^2)\")  # Adjust the syntax for squared derivatives in u1\n",
        "u1_s = u1_s.replace(\"D_THETA_2^2\",\"(D_THETA_2^2)\")  # Adjust the syntax for squared derivatives in u1\n",
        "u1_s = u1_s.replace(\"D_THETA_3^2\",\"(D_THETA_3^2)\")  # Adjust the syntax for squared derivatives in u1\n",
        "\n",
        "u2_s = str(u2_s).replace(\"**\",\"^\")  # Replace '**' with '^' in u2\n",
        "u2_s = u2_s.replace(\"D_THETA_1^2\",\"(D_THETA_1^2)\")  # Adjust the syntax for squared derivatives in u2\n",
        "u2_s = u2_s.replace(\"D_THETA_2^2\",\"(D_THETA_2^2)\")  # Adjust the syntax for squared derivatives in u2\n",
        "u2_s = u2_s.replace(\"D_THETA_3^2\",\"(D_THETA_3^2)\")  # Adjust the syntax for squared derivatives in u2\n",
        "\n",
        "u3_s = str(u3_s).replace(\"**\",\"^\")  # Replace '**' with '^' in u3\n",
        "u3_s = u3_s.replace(\"D_THETA_1^2\",\"(D_THETA_1^2)\")  # Adjust the syntax for squared derivatives in u3\n",
        "u3_s = u3_s.replace(\"D_THETA_2^2\",\"(D_THETA_2^2)\")  # Adjust the syntax for squared derivatives in u3\n",
        "u3_s = u3_s.replace(\"D_THETA_3^2\",\"(D_THETA_3^2)\")  # Adjust the syntax for squared derivatives in u3\n",
        "\n",
        "# Print the torque equations in a MATLAB-compatible format\n",
        "print(\"T1 = \",u1_s,\";\")  # Print torque for joint 1\n",
        "print(\"T2 = \",u2_s,\";\")  # Print torque for joint 2\n",
        "print(\"T3 = \",u3_s,\";\")  # Print torque for joint 3\n",
        "print(\"\")  # Print an empty line for readability\n"
      ],
      "metadata": {
        "colab": {
          "base_uri": "https://localhost:8080/"
        },
        "id": "z3hsrHtoReap",
        "outputId": "f37f17a4-b888-456d-8895-3980d6e6ce82"
      },
      "execution_count": null,
      "outputs": [
        {
          "output_type": "stream",
          "name": "stdout",
          "text": [
            "T1 =  -0.00018*D_THETA_1*D_THETA_2*sin(theta2) - 3.42e-5*D_THETA_1*D_THETA_2*sin(theta2 + theta3) - 3.078e-5*D_THETA_1*D_THETA_3*sin(theta3) - 3.42e-5*D_THETA_1*D_THETA_3*sin(theta2 + theta3) - 9.0e-5*(D_THETA_2^2)*sin(theta2) - 1.71e-5*(D_THETA_2^2)*sin(theta2 + theta3) - 3.078e-5*D_THETA_2*D_THETA_3*sin(theta3) - 3.42e-5*D_THETA_2*D_THETA_3*sin(theta2 + theta3) - 1.539e-5*(D_THETA_3^2)*sin(theta3) - 1.71e-5*(D_THETA_3^2)*sin(theta2 + theta3) + d2q_des1*(0.00018*cos(theta2) + 3.078e-5*cos(theta3) + 3.42e-5*cos(theta2 + theta3) + 0.000296104833333333) + d2q_des2*(9.0e-5*cos(theta2) + 3.078e-5*cos(theta3) + 1.71e-5*cos(theta2 + theta3) + 9.77715e-5) + d2q_des3*(1.539e-5*cos(theta3) + 1.71e-5*cos(theta2 + theta3) + 1.13715e-5) + 0.018639*cos(theta1) + 0.008829*cos(theta1 + theta2) + 0.00167751*cos(theta1 + theta2 + theta3) ;\n",
            "T2 =  9.0e-5*(D_THETA_1^2)*sin(theta2) + 1.71e-5*(D_THETA_1^2)*sin(theta2 + theta3) - 3.078e-5*D_THETA_1*D_THETA_3*sin(theta3) - 3.078e-5*D_THETA_2*D_THETA_3*sin(theta3) - 1.539e-5*(D_THETA_3^2)*sin(theta3) + d2q_des1*(9.0e-5*cos(theta2) + 3.078e-5*cos(theta3) + 1.71e-5*cos(theta2 + theta3) + 9.77715e-5) + d2q_des2*(3.078e-5*cos(theta3) + 9.77715e-5) + d2q_des3*(1.539e-5*cos(theta3) + 1.13715e-5) + 0.008829*cos(theta1 + theta2) + 0.00167751*cos(theta1 + theta2 + theta3) ;\n",
            "T3 =  1.539e-5*(D_THETA_1^2)*sin(theta3) + 1.71e-5*(D_THETA_1^2)*sin(theta2 + theta3) + 3.078e-5*D_THETA_1*D_THETA_2*sin(theta3) + 1.539e-5*(D_THETA_2^2)*sin(theta3) + d2q_des1*(1.539e-5*cos(theta3) + 1.71e-5*cos(theta2 + theta3) + 1.13715e-5) + d2q_des2*(1.539e-5*cos(theta3) + 1.13715e-5) + 1.13715e-5*d2q_des3 + 0.00167751*cos(theta1 + theta2 + theta3) ;\n",
            "\n"
          ]
        }
      ]
    },
    {
      "cell_type": "code",
      "source": [
        "# Factor the torque expressions with respect to the tendon forces (F1, F2, F3, F4, F5, F6)\n",
        "\n",
        "factored_expr1 = collect(T1, [F1, F2, F3, F4, F5, F6])  # Collect and factor T1 with respect to the forces F1 to F6\n",
        "factored_expr2 = collect(T2, [F1, F2, F3, F4, F5, F6])  # Collect and factor T2 with respect to the forces F1 to F6\n",
        "factored_expr3 = collect(T3, [F1, F2, F3, F4, F5, F6])  # Collect and factor T3 with respect to the forces F1 to F6\n",
        "\n",
        "# Print the factored torque expressions for each joint\n",
        "print(\"TORK 1 = \", factored_expr1)  # Print the factored torque expression for the first joint\n",
        "print(\"TORK 2 = \", factored_expr2)  # Print the factored torque expression for the second joint\n",
        "print(\"TORK 3 = \", factored_expr3)  # Print the factored torque expression for the third joint\n"
      ],
      "metadata": {
        "colab": {
          "base_uri": "https://localhost:8080/"
        },
        "id": "-XY0lmZuRgJg",
        "outputId": "17ee7d10-b9fc-4b71-c95f-059697b9815f"
      },
      "execution_count": null,
      "outputs": [
        {
          "output_type": "stream",
          "name": "stdout",
          "text": [
            "TORK 1 =  -0.005*F1 + 0.005*F2\n",
            "TORK 2 =  -0.005*F3 + 0.005*F4\n",
            "TORK 3 =  -0.005*F5 + 0.005*F6\n"
          ]
        }
      ]
    },
    {
      "cell_type": "code",
      "source": [
        "# TO CONVERT BETWEEN TORQUES AND TENDON FORCES\n",
        "# Extract and simplify the coefficients of tendon forces (F1, F2, F3, F4, F5, F6)\n",
        "# for each of the torques T1, T2, and T3.\n",
        "\n",
        "a11 = simplify(factored_expr1.coeff(F1))\n",
        "a12 = simplify(factored_expr1.coeff(F2))\n",
        "\n",
        "a23 = simplify(factored_expr2.coeff(F3))\n",
        "a24 = simplify(factored_expr2.coeff(F4))\n",
        "\n",
        "a35 = simplify(factored_expr3.coeff(F5))\n",
        "a36 = simplify(factored_expr3.coeff(F6))"
      ],
      "metadata": {
        "id": "-zw5LFxyR_uD"
      },
      "execution_count": null,
      "outputs": []
    },
    {
      "cell_type": "code",
      "source": [
        "\n",
        "# Print the MATLAB-friendly expressions for each coefficient\n",
        "print(\"a11 = \", a11, \";\")\n",
        "print(\"a12 = \", a12, \";\")\n",
        "print(\"a13 = \", \"0\", \";\")\n",
        "print(\"a14 = \", \"0\", \";\")\n",
        "print(\"a15 = \", \"0\", \";\")\n",
        "print(\"a16 = \", \"0\", \";\")\n",
        "\n",
        "print(\"a21 = \", \"0\", \";\")\n",
        "print(\"a22 = \", \"0\", \";\")\n",
        "print(\"a23 = \", a23, \";\")\n",
        "print(\"a24 = \", a24, \";\")\n",
        "print(\"a25 = \", \"0\", \";\")\n",
        "print(\"a26 = \", \"0\", \";\")\n",
        "\n",
        "print(\"a31 = \", \"0\", \";\")\n",
        "print(\"a32 = \", \"0\", \";\")\n",
        "print(\"a33 = \", \"0\", \";\")\n",
        "print(\"a34 = \", \"0\", \";\")\n",
        "print(\"a35 = \", a35, \";\")\n",
        "print(\"a36 = \", a36, \";\")\n"
      ],
      "metadata": {
        "colab": {
          "base_uri": "https://localhost:8080/"
        },
        "id": "C00xJb84RuM2",
        "outputId": "cbf9bf3a-ea62-4000-99c1-d7c2218879f3"
      },
      "execution_count": null,
      "outputs": [
        {
          "output_type": "stream",
          "name": "stdout",
          "text": [
            "a11 =  -0.00500000000000000 ;\n",
            "a12 =  0.00500000000000000 ;\n",
            "a13 =  0 ;\n",
            "a14 =  0 ;\n",
            "a15 =  0 ;\n",
            "a16 =  0 ;\n",
            "a21 =  0 ;\n",
            "a22 =  0 ;\n",
            "a23 =  -0.00500000000000000 ;\n",
            "a24 =  0.00500000000000000 ;\n",
            "a25 =  0 ;\n",
            "a26 =  0 ;\n",
            "a31 =  0 ;\n",
            "a32 =  0 ;\n",
            "a33 =  0 ;\n",
            "a34 =  0 ;\n",
            "a35 =  -0.00500000000000000 ;\n",
            "a36 =  0.00500000000000000 ;\n"
          ]
        }
      ]
    }
  ]
}